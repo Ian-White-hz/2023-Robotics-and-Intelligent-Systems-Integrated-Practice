{
 "cells": [
  {
   "cell_type": "code",
   "execution_count": 1,
   "metadata": {},
   "outputs": [],
   "source": [
    "from RoboticArm_sym import RoboticArm\n",
    "import sympy as sp\n",
    "\n",
    "from IPython.core.interactiveshell import InteractiveShell\n",
    "InteractiveShell.ast_node_interactivity = \"all\""
   ]
  },
  {
   "cell_type": "code",
   "execution_count": 2,
   "metadata": {},
   "outputs": [],
   "source": [
    "arm = RoboticArm()"
   ]
  },
  {
   "cell_type": "code",
   "execution_count": 15,
   "metadata": {},
   "outputs": [],
   "source": [
    "T_0_7 = sp.Matrix([\n",
    "    [sp.Symbol('n_x'), sp.Symbol('s_x'), sp.Symbol('a_x'), sp.Symbol('p_x')],\n",
    "    [sp.Symbol('n_y'), sp.Symbol('s_y'), sp.Symbol('a_y'), sp.Symbol('p_y')],\n",
    "    [sp.Symbol('n_z'), sp.Symbol('s_z'), sp.Symbol('a_z'), sp.Symbol('p_z')],\n",
    "    [0, 0, 0, 1]\n",
    "])"
   ]
  },
  {
   "cell_type": "code",
   "execution_count": 130,
   "metadata": {},
   "outputs": [
    {
     "data": {
      "text/latex": [
       "$\\displaystyle \\left[\\begin{matrix}- \\sin{\\left(\\theta_{1} \\right)} & - \\cos{\\left(\\theta_{1} \\right)} & 0 & 0\\\\\\cos{\\left(\\theta_{1} \\right)} & - \\sin{\\left(\\theta_{1} \\right)} & 0 & 0\\\\0 & 0 & 1 & 0.12\\\\0 & 0 & 0 & 1\\end{matrix}\\right]$"
      ],
      "text/plain": [
       "Matrix([\n",
       "[-sin(theta_1), -cos(theta_1), 0,    0],\n",
       "[ cos(theta_1), -sin(theta_1), 0,    0],\n",
       "[            0,             0, 1, 0.12],\n",
       "[            0,             0, 0,    1]])"
      ]
     },
     "execution_count": 130,
     "metadata": {},
     "output_type": "execute_result"
    }
   ],
   "source": [
    "T_0_1 = arm.T_i_ip1[0]; T_0_1\n",
    "T_1_2 = arm.T_i_ip1[1]; T_1_2\n",
    "T_2_3 = arm.T_i_ip1[2]\n",
    "T_3_4 = arm.T_i_ip1[3]\n",
    "T_4_5 = arm.T_i_ip1[4]\n",
    "T_5_6 = arm.T_i_ip1[5]\n",
    "T_6_7 = arm.T_i_ip1[6]"
   ]
  },
  {
   "cell_type": "code",
   "execution_count": 20,
   "metadata": {},
   "outputs": [],
   "source": [
    "LHS = sp.simplify(T_0_1.inv() * T_0_7)\n",
    "RHS = sp.simplify(T_1_2 * T_2_3 * T_3_4 * T_4_5 * T_5_6 * T_6_7)"
   ]
  },
  {
   "cell_type": "code",
   "execution_count": 129,
   "metadata": {},
   "outputs": [
    {
     "data": {
      "text/latex": [
       "$\\displaystyle \\left[\\begin{matrix}\\left(- a_{x} \\sin{\\left(\\theta_{1} \\right)} \\sin{\\left(\\theta_{2} \\right)} + a_{y} \\sin{\\left(\\theta_{2} \\right)} \\cos{\\left(\\theta_{1} \\right)} + a_{z} \\cos{\\left(\\theta_{2} \\right)}\\right) \\cos{\\left(\\theta_{6} \\right)} - \\left(- n_{x} \\sin{\\left(\\theta_{1} \\right)} \\sin{\\left(\\theta_{2} \\right)} + n_{y} \\sin{\\left(\\theta_{2} \\right)} \\cos{\\left(\\theta_{1} \\right)} + n_{z} \\cos{\\left(\\theta_{2} \\right)}\\right) \\sin{\\left(\\theta_{6} \\right)} \\cos{\\left(\\theta_{7} \\right)} + \\left(- s_{x} \\sin{\\left(\\theta_{1} \\right)} \\sin{\\left(\\theta_{2} \\right)} + s_{y} \\sin{\\left(\\theta_{2} \\right)} \\cos{\\left(\\theta_{1} \\right)} + s_{z} \\cos{\\left(\\theta_{2} \\right)}\\right) \\sin{\\left(\\theta_{6} \\right)} \\sin{\\left(\\theta_{7} \\right)} & - \\left(- n_{x} \\sin{\\left(\\theta_{1} \\right)} \\sin{\\left(\\theta_{2} \\right)} + n_{y} \\sin{\\left(\\theta_{2} \\right)} \\cos{\\left(\\theta_{1} \\right)} + n_{z} \\cos{\\left(\\theta_{2} \\right)}\\right) \\sin{\\left(\\theta_{7} \\right)} - \\left(- s_{x} \\sin{\\left(\\theta_{1} \\right)} \\sin{\\left(\\theta_{2} \\right)} + s_{y} \\sin{\\left(\\theta_{2} \\right)} \\cos{\\left(\\theta_{1} \\right)} + s_{z} \\cos{\\left(\\theta_{2} \\right)}\\right) \\cos{\\left(\\theta_{7} \\right)} & \\left(- a_{x} \\sin{\\left(\\theta_{1} \\right)} \\sin{\\left(\\theta_{2} \\right)} + a_{y} \\sin{\\left(\\theta_{2} \\right)} \\cos{\\left(\\theta_{1} \\right)} + a_{z} \\cos{\\left(\\theta_{2} \\right)}\\right) \\sin{\\left(\\theta_{6} \\right)} + \\left(- n_{x} \\sin{\\left(\\theta_{1} \\right)} \\sin{\\left(\\theta_{2} \\right)} + n_{y} \\sin{\\left(\\theta_{2} \\right)} \\cos{\\left(\\theta_{1} \\right)} + n_{z} \\cos{\\left(\\theta_{2} \\right)}\\right) \\cos{\\left(\\theta_{6} \\right)} \\cos{\\left(\\theta_{7} \\right)} - \\left(- s_{x} \\sin{\\left(\\theta_{1} \\right)} \\sin{\\left(\\theta_{2} \\right)} + s_{y} \\sin{\\left(\\theta_{2} \\right)} \\cos{\\left(\\theta_{1} \\right)} + s_{z} \\cos{\\left(\\theta_{2} \\right)}\\right) \\sin{\\left(\\theta_{7} \\right)} \\cos{\\left(\\theta_{6} \\right)} & 0.12 a_{x} \\sin{\\left(\\theta_{1} \\right)} \\sin{\\left(\\theta_{2} \\right)} - 0.12 a_{y} \\sin{\\left(\\theta_{2} \\right)} \\cos{\\left(\\theta_{1} \\right)} - 0.12 a_{z} \\cos{\\left(\\theta_{2} \\right)} - p_{x} \\sin{\\left(\\theta_{1} \\right)} \\sin{\\left(\\theta_{2} \\right)} + p_{y} \\sin{\\left(\\theta_{2} \\right)} \\cos{\\left(\\theta_{1} \\right)} + p_{z} \\cos{\\left(\\theta_{2} \\right)} - 0.1 \\left(- n_{x} \\sin{\\left(\\theta_{1} \\right)} \\sin{\\left(\\theta_{2} \\right)} + n_{y} \\sin{\\left(\\theta_{2} \\right)} \\cos{\\left(\\theta_{1} \\right)} + n_{z} \\cos{\\left(\\theta_{2} \\right)}\\right) \\sin{\\left(\\theta_{7} \\right)} - 0.1 \\left(- s_{x} \\sin{\\left(\\theta_{1} \\right)} \\sin{\\left(\\theta_{2} \\right)} + s_{y} \\sin{\\left(\\theta_{2} \\right)} \\cos{\\left(\\theta_{1} \\right)} + s_{z} \\cos{\\left(\\theta_{2} \\right)}\\right) \\cos{\\left(\\theta_{7} \\right)} - 0.12 \\cos{\\left(\\theta_{2} \\right)}\\\\- \\left(a_{x} \\sin{\\left(\\theta_{1} \\right)} \\cos{\\left(\\theta_{2} \\right)} - a_{y} \\cos{\\left(\\theta_{1} \\right)} \\cos{\\left(\\theta_{2} \\right)} + a_{z} \\sin{\\left(\\theta_{2} \\right)}\\right) \\cos{\\left(\\theta_{6} \\right)} + \\left(n_{x} \\sin{\\left(\\theta_{1} \\right)} \\cos{\\left(\\theta_{2} \\right)} - n_{y} \\cos{\\left(\\theta_{1} \\right)} \\cos{\\left(\\theta_{2} \\right)} + n_{z} \\sin{\\left(\\theta_{2} \\right)}\\right) \\sin{\\left(\\theta_{6} \\right)} \\cos{\\left(\\theta_{7} \\right)} - \\left(s_{x} \\sin{\\left(\\theta_{1} \\right)} \\cos{\\left(\\theta_{2} \\right)} - s_{y} \\cos{\\left(\\theta_{1} \\right)} \\cos{\\left(\\theta_{2} \\right)} + s_{z} \\sin{\\left(\\theta_{2} \\right)}\\right) \\sin{\\left(\\theta_{6} \\right)} \\sin{\\left(\\theta_{7} \\right)} & \\left(n_{x} \\sin{\\left(\\theta_{1} \\right)} \\cos{\\left(\\theta_{2} \\right)} - n_{y} \\cos{\\left(\\theta_{1} \\right)} \\cos{\\left(\\theta_{2} \\right)} + n_{z} \\sin{\\left(\\theta_{2} \\right)}\\right) \\sin{\\left(\\theta_{7} \\right)} + \\left(s_{x} \\sin{\\left(\\theta_{1} \\right)} \\cos{\\left(\\theta_{2} \\right)} - s_{y} \\cos{\\left(\\theta_{1} \\right)} \\cos{\\left(\\theta_{2} \\right)} + s_{z} \\sin{\\left(\\theta_{2} \\right)}\\right) \\cos{\\left(\\theta_{7} \\right)} & - \\left(a_{x} \\sin{\\left(\\theta_{1} \\right)} \\cos{\\left(\\theta_{2} \\right)} - a_{y} \\cos{\\left(\\theta_{1} \\right)} \\cos{\\left(\\theta_{2} \\right)} + a_{z} \\sin{\\left(\\theta_{2} \\right)}\\right) \\sin{\\left(\\theta_{6} \\right)} - \\left(n_{x} \\sin{\\left(\\theta_{1} \\right)} \\cos{\\left(\\theta_{2} \\right)} - n_{y} \\cos{\\left(\\theta_{1} \\right)} \\cos{\\left(\\theta_{2} \\right)} + n_{z} \\sin{\\left(\\theta_{2} \\right)}\\right) \\cos{\\left(\\theta_{6} \\right)} \\cos{\\left(\\theta_{7} \\right)} + \\left(s_{x} \\sin{\\left(\\theta_{1} \\right)} \\cos{\\left(\\theta_{2} \\right)} - s_{y} \\cos{\\left(\\theta_{1} \\right)} \\cos{\\left(\\theta_{2} \\right)} + s_{z} \\sin{\\left(\\theta_{2} \\right)}\\right) \\sin{\\left(\\theta_{7} \\right)} \\cos{\\left(\\theta_{6} \\right)} & 0.12 a_{x} \\sin{\\left(\\theta_{1} \\right)} \\cos{\\left(\\theta_{2} \\right)} - 0.12 a_{y} \\cos{\\left(\\theta_{1} \\right)} \\cos{\\left(\\theta_{2} \\right)} + 0.12 a_{z} \\sin{\\left(\\theta_{2} \\right)} - p_{x} \\sin{\\left(\\theta_{1} \\right)} \\cos{\\left(\\theta_{2} \\right)} + p_{y} \\cos{\\left(\\theta_{1} \\right)} \\cos{\\left(\\theta_{2} \\right)} - p_{z} \\sin{\\left(\\theta_{2} \\right)} + 0.1 \\left(n_{x} \\sin{\\left(\\theta_{1} \\right)} \\cos{\\left(\\theta_{2} \\right)} - n_{y} \\cos{\\left(\\theta_{1} \\right)} \\cos{\\left(\\theta_{2} \\right)} + n_{z} \\sin{\\left(\\theta_{2} \\right)}\\right) \\sin{\\left(\\theta_{7} \\right)} + 0.1 \\left(s_{x} \\sin{\\left(\\theta_{1} \\right)} \\cos{\\left(\\theta_{2} \\right)} - s_{y} \\cos{\\left(\\theta_{1} \\right)} \\cos{\\left(\\theta_{2} \\right)} + s_{z} \\sin{\\left(\\theta_{2} \\right)}\\right) \\cos{\\left(\\theta_{7} \\right)} + 0.12 \\sin{\\left(\\theta_{2} \\right)}\\\\- \\left(a_{x} \\cos{\\left(\\theta_{1} \\right)} + a_{y} \\sin{\\left(\\theta_{1} \\right)}\\right) \\cos{\\left(\\theta_{6} \\right)} + \\left(n_{x} \\cos{\\left(\\theta_{1} \\right)} + n_{y} \\sin{\\left(\\theta_{1} \\right)}\\right) \\sin{\\left(\\theta_{6} \\right)} \\cos{\\left(\\theta_{7} \\right)} - \\left(s_{x} \\cos{\\left(\\theta_{1} \\right)} + s_{y} \\sin{\\left(\\theta_{1} \\right)}\\right) \\sin{\\left(\\theta_{6} \\right)} \\sin{\\left(\\theta_{7} \\right)} & \\left(n_{x} \\cos{\\left(\\theta_{1} \\right)} + n_{y} \\sin{\\left(\\theta_{1} \\right)}\\right) \\sin{\\left(\\theta_{7} \\right)} + \\left(s_{x} \\cos{\\left(\\theta_{1} \\right)} + s_{y} \\sin{\\left(\\theta_{1} \\right)}\\right) \\cos{\\left(\\theta_{7} \\right)} & - \\left(a_{x} \\cos{\\left(\\theta_{1} \\right)} + a_{y} \\sin{\\left(\\theta_{1} \\right)}\\right) \\sin{\\left(\\theta_{6} \\right)} - \\left(n_{x} \\cos{\\left(\\theta_{1} \\right)} + n_{y} \\sin{\\left(\\theta_{1} \\right)}\\right) \\cos{\\left(\\theta_{6} \\right)} \\cos{\\left(\\theta_{7} \\right)} + \\left(s_{x} \\cos{\\left(\\theta_{1} \\right)} + s_{y} \\sin{\\left(\\theta_{1} \\right)}\\right) \\sin{\\left(\\theta_{7} \\right)} \\cos{\\left(\\theta_{6} \\right)} & 0.12 a_{x} \\cos{\\left(\\theta_{1} \\right)} + 0.12 a_{y} \\sin{\\left(\\theta_{1} \\right)} - p_{x} \\cos{\\left(\\theta_{1} \\right)} - p_{y} \\sin{\\left(\\theta_{1} \\right)} + 0.1 \\left(n_{x} \\cos{\\left(\\theta_{1} \\right)} + n_{y} \\sin{\\left(\\theta_{1} \\right)}\\right) \\sin{\\left(\\theta_{7} \\right)} + 0.1 \\left(s_{x} \\cos{\\left(\\theta_{1} \\right)} + s_{y} \\sin{\\left(\\theta_{1} \\right)}\\right) \\cos{\\left(\\theta_{7} \\right)} - 0.1\\\\0 & 0 & 0 & 1\\end{matrix}\\right]$"
      ],
      "text/plain": [
       "Matrix([\n",
       "[(-a_x*sin(theta_1)*sin(theta_2) + a_y*sin(theta_2)*cos(theta_1) + a_z*cos(theta_2))*cos(theta_6) - (-n_x*sin(theta_1)*sin(theta_2) + n_y*sin(theta_2)*cos(theta_1) + n_z*cos(theta_2))*sin(theta_6)*cos(theta_7) + (-s_x*sin(theta_1)*sin(theta_2) + s_y*sin(theta_2)*cos(theta_1) + s_z*cos(theta_2))*sin(theta_6)*sin(theta_7), -(-n_x*sin(theta_1)*sin(theta_2) + n_y*sin(theta_2)*cos(theta_1) + n_z*cos(theta_2))*sin(theta_7) - (-s_x*sin(theta_1)*sin(theta_2) + s_y*sin(theta_2)*cos(theta_1) + s_z*cos(theta_2))*cos(theta_7), (-a_x*sin(theta_1)*sin(theta_2) + a_y*sin(theta_2)*cos(theta_1) + a_z*cos(theta_2))*sin(theta_6) + (-n_x*sin(theta_1)*sin(theta_2) + n_y*sin(theta_2)*cos(theta_1) + n_z*cos(theta_2))*cos(theta_6)*cos(theta_7) - (-s_x*sin(theta_1)*sin(theta_2) + s_y*sin(theta_2)*cos(theta_1) + s_z*cos(theta_2))*sin(theta_7)*cos(theta_6), 0.12*a_x*sin(theta_1)*sin(theta_2) - 0.12*a_y*sin(theta_2)*cos(theta_1) - 0.12*a_z*cos(theta_2) - p_x*sin(theta_1)*sin(theta_2) + p_y*sin(theta_2)*cos(theta_1) + p_z*cos(theta_2) - 0.1*(-n_x*sin(theta_1)*sin(theta_2) + n_y*sin(theta_2)*cos(theta_1) + n_z*cos(theta_2))*sin(theta_7) - 0.1*(-s_x*sin(theta_1)*sin(theta_2) + s_y*sin(theta_2)*cos(theta_1) + s_z*cos(theta_2))*cos(theta_7) - 0.12*cos(theta_2)],\n",
       "[  -(a_x*sin(theta_1)*cos(theta_2) - a_y*cos(theta_1)*cos(theta_2) + a_z*sin(theta_2))*cos(theta_6) + (n_x*sin(theta_1)*cos(theta_2) - n_y*cos(theta_1)*cos(theta_2) + n_z*sin(theta_2))*sin(theta_6)*cos(theta_7) - (s_x*sin(theta_1)*cos(theta_2) - s_y*cos(theta_1)*cos(theta_2) + s_z*sin(theta_2))*sin(theta_6)*sin(theta_7),    (n_x*sin(theta_1)*cos(theta_2) - n_y*cos(theta_1)*cos(theta_2) + n_z*sin(theta_2))*sin(theta_7) + (s_x*sin(theta_1)*cos(theta_2) - s_y*cos(theta_1)*cos(theta_2) + s_z*sin(theta_2))*cos(theta_7),   -(a_x*sin(theta_1)*cos(theta_2) - a_y*cos(theta_1)*cos(theta_2) + a_z*sin(theta_2))*sin(theta_6) - (n_x*sin(theta_1)*cos(theta_2) - n_y*cos(theta_1)*cos(theta_2) + n_z*sin(theta_2))*cos(theta_6)*cos(theta_7) + (s_x*sin(theta_1)*cos(theta_2) - s_y*cos(theta_1)*cos(theta_2) + s_z*sin(theta_2))*sin(theta_7)*cos(theta_6),   0.12*a_x*sin(theta_1)*cos(theta_2) - 0.12*a_y*cos(theta_1)*cos(theta_2) + 0.12*a_z*sin(theta_2) - p_x*sin(theta_1)*cos(theta_2) + p_y*cos(theta_1)*cos(theta_2) - p_z*sin(theta_2) + 0.1*(n_x*sin(theta_1)*cos(theta_2) - n_y*cos(theta_1)*cos(theta_2) + n_z*sin(theta_2))*sin(theta_7) + 0.1*(s_x*sin(theta_1)*cos(theta_2) - s_y*cos(theta_1)*cos(theta_2) + s_z*sin(theta_2))*cos(theta_7) + 0.12*sin(theta_2)],\n",
       "[                                                                                                                                         -(a_x*cos(theta_1) + a_y*sin(theta_1))*cos(theta_6) + (n_x*cos(theta_1) + n_y*sin(theta_1))*sin(theta_6)*cos(theta_7) - (s_x*cos(theta_1) + s_y*sin(theta_1))*sin(theta_6)*sin(theta_7),                                                                                              (n_x*cos(theta_1) + n_y*sin(theta_1))*sin(theta_7) + (s_x*cos(theta_1) + s_y*sin(theta_1))*cos(theta_7),                                                                                                                                          -(a_x*cos(theta_1) + a_y*sin(theta_1))*sin(theta_6) - (n_x*cos(theta_1) + n_y*sin(theta_1))*cos(theta_6)*cos(theta_7) + (s_x*cos(theta_1) + s_y*sin(theta_1))*sin(theta_7)*cos(theta_6),                                                                                                                                                                                                          0.12*a_x*cos(theta_1) + 0.12*a_y*sin(theta_1) - p_x*cos(theta_1) - p_y*sin(theta_1) + 0.1*(n_x*cos(theta_1) + n_y*sin(theta_1))*sin(theta_7) + 0.1*(s_x*cos(theta_1) + s_y*sin(theta_1))*cos(theta_7) - 0.1],\n",
       "[                                                                                                                                                                                                                                                                                                                               0,                                                                                                                                                                                                    0,                                                                                                                                                                                                                                                                                                                                0,                                                                                                                                                                                                                                                                                                                                                                                                                    1]])"
      ]
     },
     "execution_count": 129,
     "metadata": {},
     "output_type": "execute_result"
    },
    {
     "data": {
      "text/latex": [
       "$\\displaystyle \\left[\\begin{matrix}- \\cos{\\left(\\theta_{3} + \\theta_{4} + \\theta_{5} \\right)} & \\sin{\\left(\\theta_{3} + \\theta_{4} + \\theta_{5} \\right)} & 0 & 0.4 \\cos{\\left(\\theta_{3} \\right)} - 0.4 \\cos{\\left(\\theta_{3} + \\theta_{4} \\right)}\\\\0 & 0 & 1 & 0.3\\\\\\sin{\\left(\\theta_{3} + \\theta_{4} + \\theta_{5} \\right)} & \\cos{\\left(\\theta_{3} + \\theta_{4} + \\theta_{5} \\right)} & 0 & - 0.4 \\sin{\\left(\\theta_{3} \\right)} + 0.4 \\sin{\\left(\\theta_{3} + \\theta_{4} \\right)}\\\\0 & 0 & 0 & 1\\end{matrix}\\right]$"
      ],
      "text/plain": [
       "Matrix([\n",
       "[-cos(theta_3 + theta_4 + theta_5), sin(theta_3 + theta_4 + theta_5), 0,  0.4*cos(theta_3) - 0.4*cos(theta_3 + theta_4)],\n",
       "[                                0,                                0, 1,                                            0.3],\n",
       "[ sin(theta_3 + theta_4 + theta_5), cos(theta_3 + theta_4 + theta_5), 0, -0.4*sin(theta_3) + 0.4*sin(theta_3 + theta_4)],\n",
       "[                                0,                                0, 0,                                              1]])"
      ]
     },
     "execution_count": 129,
     "metadata": {},
     "output_type": "execute_result"
    },
    {
     "data": {
      "text/latex": [
       "$\\displaystyle \\left(- a_{x} \\sin{\\left(\\theta_{1} \\right)} \\sin{\\left(\\theta_{2} \\right)} + a_{y} \\sin{\\left(\\theta_{2} \\right)} \\cos{\\left(\\theta_{1} \\right)} + a_{z} \\cos{\\left(\\theta_{2} \\right)}\\right) \\cos{\\left(\\theta_{6} \\right)} - \\left(- n_{x} \\sin{\\left(\\theta_{1} \\right)} \\sin{\\left(\\theta_{2} \\right)} + n_{y} \\sin{\\left(\\theta_{2} \\right)} \\cos{\\left(\\theta_{1} \\right)} + n_{z} \\cos{\\left(\\theta_{2} \\right)}\\right) \\sin{\\left(\\theta_{6} \\right)} \\cos{\\left(\\theta_{7} \\right)} + \\left(- s_{x} \\sin{\\left(\\theta_{1} \\right)} \\sin{\\left(\\theta_{2} \\right)} + s_{y} \\sin{\\left(\\theta_{2} \\right)} \\cos{\\left(\\theta_{1} \\right)} + s_{z} \\cos{\\left(\\theta_{2} \\right)}\\right) \\sin{\\left(\\theta_{6} \\right)} \\sin{\\left(\\theta_{7} \\right)} = - \\cos{\\left(\\theta_{3} + \\theta_{4} + \\theta_{5} \\right)}$"
      ],
      "text/plain": [
       "Eq((-a_x*sin(theta_1)*sin(theta_2) + a_y*sin(theta_2)*cos(theta_1) + a_z*cos(theta_2))*cos(theta_6) - (-n_x*sin(theta_1)*sin(theta_2) + n_y*sin(theta_2)*cos(theta_1) + n_z*cos(theta_2))*sin(theta_6)*cos(theta_7) + (-s_x*sin(theta_1)*sin(theta_2) + s_y*sin(theta_2)*cos(theta_1) + s_z*cos(theta_2))*sin(theta_6)*sin(theta_7), -cos(theta_3 + theta_4 + theta_5))"
      ]
     },
     "execution_count": 129,
     "metadata": {},
     "output_type": "execute_result"
    },
    {
     "data": {
      "text/latex": [
       "$\\displaystyle - \\left(- n_{x} \\sin{\\left(\\theta_{1} \\right)} \\sin{\\left(\\theta_{2} \\right)} + n_{y} \\sin{\\left(\\theta_{2} \\right)} \\cos{\\left(\\theta_{1} \\right)} + n_{z} \\cos{\\left(\\theta_{2} \\right)}\\right) \\sin{\\left(\\theta_{7} \\right)} - \\left(- s_{x} \\sin{\\left(\\theta_{1} \\right)} \\sin{\\left(\\theta_{2} \\right)} + s_{y} \\sin{\\left(\\theta_{2} \\right)} \\cos{\\left(\\theta_{1} \\right)} + s_{z} \\cos{\\left(\\theta_{2} \\right)}\\right) \\cos{\\left(\\theta_{7} \\right)} = \\sin{\\left(\\theta_{3} + \\theta_{4} + \\theta_{5} \\right)}$"
      ],
      "text/plain": [
       "Eq(-(-n_x*sin(theta_1)*sin(theta_2) + n_y*sin(theta_2)*cos(theta_1) + n_z*cos(theta_2))*sin(theta_7) - (-s_x*sin(theta_1)*sin(theta_2) + s_y*sin(theta_2)*cos(theta_1) + s_z*cos(theta_2))*cos(theta_7), sin(theta_3 + theta_4 + theta_5))"
      ]
     },
     "execution_count": 129,
     "metadata": {},
     "output_type": "execute_result"
    },
    {
     "data": {
      "text/latex": [
       "$\\displaystyle \\left(- a_{x} \\sin{\\left(\\theta_{1} \\right)} \\sin{\\left(\\theta_{2} \\right)} + a_{y} \\sin{\\left(\\theta_{2} \\right)} \\cos{\\left(\\theta_{1} \\right)} + a_{z} \\cos{\\left(\\theta_{2} \\right)}\\right) \\sin{\\left(\\theta_{6} \\right)} + \\left(- n_{x} \\sin{\\left(\\theta_{1} \\right)} \\sin{\\left(\\theta_{2} \\right)} + n_{y} \\sin{\\left(\\theta_{2} \\right)} \\cos{\\left(\\theta_{1} \\right)} + n_{z} \\cos{\\left(\\theta_{2} \\right)}\\right) \\cos{\\left(\\theta_{6} \\right)} \\cos{\\left(\\theta_{7} \\right)} - \\left(- s_{x} \\sin{\\left(\\theta_{1} \\right)} \\sin{\\left(\\theta_{2} \\right)} + s_{y} \\sin{\\left(\\theta_{2} \\right)} \\cos{\\left(\\theta_{1} \\right)} + s_{z} \\cos{\\left(\\theta_{2} \\right)}\\right) \\sin{\\left(\\theta_{7} \\right)} \\cos{\\left(\\theta_{6} \\right)} = 0$"
      ],
      "text/plain": [
       "Eq((-a_x*sin(theta_1)*sin(theta_2) + a_y*sin(theta_2)*cos(theta_1) + a_z*cos(theta_2))*sin(theta_6) + (-n_x*sin(theta_1)*sin(theta_2) + n_y*sin(theta_2)*cos(theta_1) + n_z*cos(theta_2))*cos(theta_6)*cos(theta_7) - (-s_x*sin(theta_1)*sin(theta_2) + s_y*sin(theta_2)*cos(theta_1) + s_z*cos(theta_2))*sin(theta_7)*cos(theta_6), 0)"
      ]
     },
     "execution_count": 129,
     "metadata": {},
     "output_type": "execute_result"
    },
    {
     "data": {
      "text/latex": [
       "$\\displaystyle 0.12 a_{x} \\sin{\\left(\\theta_{1} \\right)} \\sin{\\left(\\theta_{2} \\right)} - 0.12 a_{y} \\sin{\\left(\\theta_{2} \\right)} \\cos{\\left(\\theta_{1} \\right)} - 0.12 a_{z} \\cos{\\left(\\theta_{2} \\right)} - p_{x} \\sin{\\left(\\theta_{1} \\right)} \\sin{\\left(\\theta_{2} \\right)} + p_{y} \\sin{\\left(\\theta_{2} \\right)} \\cos{\\left(\\theta_{1} \\right)} + p_{z} \\cos{\\left(\\theta_{2} \\right)} - 0.1 \\left(- n_{x} \\sin{\\left(\\theta_{1} \\right)} \\sin{\\left(\\theta_{2} \\right)} + n_{y} \\sin{\\left(\\theta_{2} \\right)} \\cos{\\left(\\theta_{1} \\right)} + n_{z} \\cos{\\left(\\theta_{2} \\right)}\\right) \\sin{\\left(\\theta_{7} \\right)} - 0.1 \\left(- s_{x} \\sin{\\left(\\theta_{1} \\right)} \\sin{\\left(\\theta_{2} \\right)} + s_{y} \\sin{\\left(\\theta_{2} \\right)} \\cos{\\left(\\theta_{1} \\right)} + s_{z} \\cos{\\left(\\theta_{2} \\right)}\\right) \\cos{\\left(\\theta_{7} \\right)} - 0.12 \\cos{\\left(\\theta_{2} \\right)} = 0.4 \\cos{\\left(\\theta_{3} \\right)} - 0.4 \\cos{\\left(\\theta_{3} + \\theta_{4} \\right)}$"
      ],
      "text/plain": [
       "Eq(0.12*a_x*sin(theta_1)*sin(theta_2) - 0.12*a_y*sin(theta_2)*cos(theta_1) - 0.12*a_z*cos(theta_2) - p_x*sin(theta_1)*sin(theta_2) + p_y*sin(theta_2)*cos(theta_1) + p_z*cos(theta_2) - 0.1*(-n_x*sin(theta_1)*sin(theta_2) + n_y*sin(theta_2)*cos(theta_1) + n_z*cos(theta_2))*sin(theta_7) - 0.1*(-s_x*sin(theta_1)*sin(theta_2) + s_y*sin(theta_2)*cos(theta_1) + s_z*cos(theta_2))*cos(theta_7) - 0.12*cos(theta_2), 0.4*cos(theta_3) - 0.4*cos(theta_3 + theta_4))"
      ]
     },
     "execution_count": 129,
     "metadata": {},
     "output_type": "execute_result"
    },
    {
     "data": {
      "text/latex": [
       "$\\displaystyle - \\left(a_{x} \\sin{\\left(\\theta_{1} \\right)} \\cos{\\left(\\theta_{2} \\right)} - a_{y} \\cos{\\left(\\theta_{1} \\right)} \\cos{\\left(\\theta_{2} \\right)} + a_{z} \\sin{\\left(\\theta_{2} \\right)}\\right) \\cos{\\left(\\theta_{6} \\right)} + \\left(n_{x} \\sin{\\left(\\theta_{1} \\right)} \\cos{\\left(\\theta_{2} \\right)} - n_{y} \\cos{\\left(\\theta_{1} \\right)} \\cos{\\left(\\theta_{2} \\right)} + n_{z} \\sin{\\left(\\theta_{2} \\right)}\\right) \\sin{\\left(\\theta_{6} \\right)} \\cos{\\left(\\theta_{7} \\right)} - \\left(s_{x} \\sin{\\left(\\theta_{1} \\right)} \\cos{\\left(\\theta_{2} \\right)} - s_{y} \\cos{\\left(\\theta_{1} \\right)} \\cos{\\left(\\theta_{2} \\right)} + s_{z} \\sin{\\left(\\theta_{2} \\right)}\\right) \\sin{\\left(\\theta_{6} \\right)} \\sin{\\left(\\theta_{7} \\right)} = 0$"
      ],
      "text/plain": [
       "Eq(-(a_x*sin(theta_1)*cos(theta_2) - a_y*cos(theta_1)*cos(theta_2) + a_z*sin(theta_2))*cos(theta_6) + (n_x*sin(theta_1)*cos(theta_2) - n_y*cos(theta_1)*cos(theta_2) + n_z*sin(theta_2))*sin(theta_6)*cos(theta_7) - (s_x*sin(theta_1)*cos(theta_2) - s_y*cos(theta_1)*cos(theta_2) + s_z*sin(theta_2))*sin(theta_6)*sin(theta_7), 0)"
      ]
     },
     "execution_count": 129,
     "metadata": {},
     "output_type": "execute_result"
    },
    {
     "data": {
      "text/latex": [
       "$\\displaystyle \\left(n_{x} \\sin{\\left(\\theta_{1} \\right)} \\cos{\\left(\\theta_{2} \\right)} - n_{y} \\cos{\\left(\\theta_{1} \\right)} \\cos{\\left(\\theta_{2} \\right)} + n_{z} \\sin{\\left(\\theta_{2} \\right)}\\right) \\sin{\\left(\\theta_{7} \\right)} + \\left(s_{x} \\sin{\\left(\\theta_{1} \\right)} \\cos{\\left(\\theta_{2} \\right)} - s_{y} \\cos{\\left(\\theta_{1} \\right)} \\cos{\\left(\\theta_{2} \\right)} + s_{z} \\sin{\\left(\\theta_{2} \\right)}\\right) \\cos{\\left(\\theta_{7} \\right)} = 0$"
      ],
      "text/plain": [
       "Eq((n_x*sin(theta_1)*cos(theta_2) - n_y*cos(theta_1)*cos(theta_2) + n_z*sin(theta_2))*sin(theta_7) + (s_x*sin(theta_1)*cos(theta_2) - s_y*cos(theta_1)*cos(theta_2) + s_z*sin(theta_2))*cos(theta_7), 0)"
      ]
     },
     "execution_count": 129,
     "metadata": {},
     "output_type": "execute_result"
    },
    {
     "data": {
      "text/latex": [
       "$\\displaystyle - \\left(a_{x} \\sin{\\left(\\theta_{1} \\right)} \\cos{\\left(\\theta_{2} \\right)} - a_{y} \\cos{\\left(\\theta_{1} \\right)} \\cos{\\left(\\theta_{2} \\right)} + a_{z} \\sin{\\left(\\theta_{2} \\right)}\\right) \\sin{\\left(\\theta_{6} \\right)} - \\left(n_{x} \\sin{\\left(\\theta_{1} \\right)} \\cos{\\left(\\theta_{2} \\right)} - n_{y} \\cos{\\left(\\theta_{1} \\right)} \\cos{\\left(\\theta_{2} \\right)} + n_{z} \\sin{\\left(\\theta_{2} \\right)}\\right) \\cos{\\left(\\theta_{6} \\right)} \\cos{\\left(\\theta_{7} \\right)} + \\left(s_{x} \\sin{\\left(\\theta_{1} \\right)} \\cos{\\left(\\theta_{2} \\right)} - s_{y} \\cos{\\left(\\theta_{1} \\right)} \\cos{\\left(\\theta_{2} \\right)} + s_{z} \\sin{\\left(\\theta_{2} \\right)}\\right) \\sin{\\left(\\theta_{7} \\right)} \\cos{\\left(\\theta_{6} \\right)} = 1$"
      ],
      "text/plain": [
       "Eq(-(a_x*sin(theta_1)*cos(theta_2) - a_y*cos(theta_1)*cos(theta_2) + a_z*sin(theta_2))*sin(theta_6) - (n_x*sin(theta_1)*cos(theta_2) - n_y*cos(theta_1)*cos(theta_2) + n_z*sin(theta_2))*cos(theta_6)*cos(theta_7) + (s_x*sin(theta_1)*cos(theta_2) - s_y*cos(theta_1)*cos(theta_2) + s_z*sin(theta_2))*sin(theta_7)*cos(theta_6), 1)"
      ]
     },
     "execution_count": 129,
     "metadata": {},
     "output_type": "execute_result"
    },
    {
     "data": {
      "text/latex": [
       "$\\displaystyle 0.12 a_{x} \\sin{\\left(\\theta_{1} \\right)} \\cos{\\left(\\theta_{2} \\right)} - 0.12 a_{y} \\cos{\\left(\\theta_{1} \\right)} \\cos{\\left(\\theta_{2} \\right)} + 0.12 a_{z} \\sin{\\left(\\theta_{2} \\right)} - p_{x} \\sin{\\left(\\theta_{1} \\right)} \\cos{\\left(\\theta_{2} \\right)} + p_{y} \\cos{\\left(\\theta_{1} \\right)} \\cos{\\left(\\theta_{2} \\right)} - p_{z} \\sin{\\left(\\theta_{2} \\right)} + 0.1 \\left(n_{x} \\sin{\\left(\\theta_{1} \\right)} \\cos{\\left(\\theta_{2} \\right)} - n_{y} \\cos{\\left(\\theta_{1} \\right)} \\cos{\\left(\\theta_{2} \\right)} + n_{z} \\sin{\\left(\\theta_{2} \\right)}\\right) \\sin{\\left(\\theta_{7} \\right)} + 0.1 \\left(s_{x} \\sin{\\left(\\theta_{1} \\right)} \\cos{\\left(\\theta_{2} \\right)} - s_{y} \\cos{\\left(\\theta_{1} \\right)} \\cos{\\left(\\theta_{2} \\right)} + s_{z} \\sin{\\left(\\theta_{2} \\right)}\\right) \\cos{\\left(\\theta_{7} \\right)} + 0.12 \\sin{\\left(\\theta_{2} \\right)} = 0.3$"
      ],
      "text/plain": [
       "Eq(0.12*a_x*sin(theta_1)*cos(theta_2) - 0.12*a_y*cos(theta_1)*cos(theta_2) + 0.12*a_z*sin(theta_2) - p_x*sin(theta_1)*cos(theta_2) + p_y*cos(theta_1)*cos(theta_2) - p_z*sin(theta_2) + 0.1*(n_x*sin(theta_1)*cos(theta_2) - n_y*cos(theta_1)*cos(theta_2) + n_z*sin(theta_2))*sin(theta_7) + 0.1*(s_x*sin(theta_1)*cos(theta_2) - s_y*cos(theta_1)*cos(theta_2) + s_z*sin(theta_2))*cos(theta_7) + 0.12*sin(theta_2), 0.3)"
      ]
     },
     "execution_count": 129,
     "metadata": {},
     "output_type": "execute_result"
    },
    {
     "data": {
      "text/latex": [
       "$\\displaystyle - \\left(a_{x} \\cos{\\left(\\theta_{1} \\right)} + a_{y} \\sin{\\left(\\theta_{1} \\right)}\\right) \\cos{\\left(\\theta_{6} \\right)} + \\left(n_{x} \\cos{\\left(\\theta_{1} \\right)} + n_{y} \\sin{\\left(\\theta_{1} \\right)}\\right) \\sin{\\left(\\theta_{6} \\right)} \\cos{\\left(\\theta_{7} \\right)} - \\left(s_{x} \\cos{\\left(\\theta_{1} \\right)} + s_{y} \\sin{\\left(\\theta_{1} \\right)}\\right) \\sin{\\left(\\theta_{6} \\right)} \\sin{\\left(\\theta_{7} \\right)} = \\sin{\\left(\\theta_{3} + \\theta_{4} + \\theta_{5} \\right)}$"
      ],
      "text/plain": [
       "Eq(-(a_x*cos(theta_1) + a_y*sin(theta_1))*cos(theta_6) + (n_x*cos(theta_1) + n_y*sin(theta_1))*sin(theta_6)*cos(theta_7) - (s_x*cos(theta_1) + s_y*sin(theta_1))*sin(theta_6)*sin(theta_7), sin(theta_3 + theta_4 + theta_5))"
      ]
     },
     "execution_count": 129,
     "metadata": {},
     "output_type": "execute_result"
    },
    {
     "data": {
      "text/latex": [
       "$\\displaystyle \\left(n_{x} \\cos{\\left(\\theta_{1} \\right)} + n_{y} \\sin{\\left(\\theta_{1} \\right)}\\right) \\sin{\\left(\\theta_{7} \\right)} + \\left(s_{x} \\cos{\\left(\\theta_{1} \\right)} + s_{y} \\sin{\\left(\\theta_{1} \\right)}\\right) \\cos{\\left(\\theta_{7} \\right)} = \\cos{\\left(\\theta_{3} + \\theta_{4} + \\theta_{5} \\right)}$"
      ],
      "text/plain": [
       "Eq((n_x*cos(theta_1) + n_y*sin(theta_1))*sin(theta_7) + (s_x*cos(theta_1) + s_y*sin(theta_1))*cos(theta_7), cos(theta_3 + theta_4 + theta_5))"
      ]
     },
     "execution_count": 129,
     "metadata": {},
     "output_type": "execute_result"
    },
    {
     "data": {
      "text/latex": [
       "$\\displaystyle - \\left(a_{x} \\cos{\\left(\\theta_{1} \\right)} + a_{y} \\sin{\\left(\\theta_{1} \\right)}\\right) \\sin{\\left(\\theta_{6} \\right)} - \\left(n_{x} \\cos{\\left(\\theta_{1} \\right)} + n_{y} \\sin{\\left(\\theta_{1} \\right)}\\right) \\cos{\\left(\\theta_{6} \\right)} \\cos{\\left(\\theta_{7} \\right)} + \\left(s_{x} \\cos{\\left(\\theta_{1} \\right)} + s_{y} \\sin{\\left(\\theta_{1} \\right)}\\right) \\sin{\\left(\\theta_{7} \\right)} \\cos{\\left(\\theta_{6} \\right)} = 0$"
      ],
      "text/plain": [
       "Eq(-(a_x*cos(theta_1) + a_y*sin(theta_1))*sin(theta_6) - (n_x*cos(theta_1) + n_y*sin(theta_1))*cos(theta_6)*cos(theta_7) + (s_x*cos(theta_1) + s_y*sin(theta_1))*sin(theta_7)*cos(theta_6), 0)"
      ]
     },
     "execution_count": 129,
     "metadata": {},
     "output_type": "execute_result"
    },
    {
     "data": {
      "text/latex": [
       "$\\displaystyle 0.12 a_{x} \\cos{\\left(\\theta_{1} \\right)} + 0.12 a_{y} \\sin{\\left(\\theta_{1} \\right)} - p_{x} \\cos{\\left(\\theta_{1} \\right)} - p_{y} \\sin{\\left(\\theta_{1} \\right)} + 0.1 \\left(n_{x} \\cos{\\left(\\theta_{1} \\right)} + n_{y} \\sin{\\left(\\theta_{1} \\right)}\\right) \\sin{\\left(\\theta_{7} \\right)} + 0.1 \\left(s_{x} \\cos{\\left(\\theta_{1} \\right)} + s_{y} \\sin{\\left(\\theta_{1} \\right)}\\right) \\cos{\\left(\\theta_{7} \\right)} - 0.1 = - 0.4 \\sin{\\left(\\theta_{3} \\right)} + 0.4 \\sin{\\left(\\theta_{3} + \\theta_{4} \\right)}$"
      ],
      "text/plain": [
       "Eq(0.12*a_x*cos(theta_1) + 0.12*a_y*sin(theta_1) - p_x*cos(theta_1) - p_y*sin(theta_1) + 0.1*(n_x*cos(theta_1) + n_y*sin(theta_1))*sin(theta_7) + 0.1*(s_x*cos(theta_1) + s_y*sin(theta_1))*cos(theta_7) - 0.1, -0.4*sin(theta_3) + 0.4*sin(theta_3 + theta_4))"
      ]
     },
     "execution_count": 129,
     "metadata": {},
     "output_type": "execute_result"
    }
   ],
   "source": [
    "from IPython.core.interactiveshell import InteractiveShell\n",
    "InteractiveShell.ast_node_interactivity = \"all\"\n",
    "\n",
    "equations = []\n",
    "\n",
    "LHS\n",
    "RHS\n",
    "\n",
    "for i in range(3):\n",
    "    for j in range(4):\n",
    "        eq = sp.Eq(LHS[i, j], RHS[i, j])\n",
    "        equations.append(eq)\n",
    "        eq"
   ]
  },
  {
   "cell_type": "code",
   "execution_count": 77,
   "metadata": {},
   "outputs": [
    {
     "data": {
      "text/latex": [
       "$\\displaystyle - n_{z} \\sin{\\left(\\theta_{2} \\right)} - \\left(n_{x} \\sin{\\left(\\theta_{1} \\right)} - n_{y} \\cos{\\left(\\theta_{1} \\right)}\\right) \\cos{\\left(\\theta_{2} \\right)} = \\cos{\\left(\\theta_{6} \\right)} \\cos{\\left(\\theta_{7} \\right)}$"
      ],
      "text/plain": [
       "Eq(-n_z*sin(theta_2) - (n_x*sin(theta_1) - n_y*cos(theta_1))*cos(theta_2), cos(theta_6)*cos(theta_7))"
      ]
     },
     "execution_count": 77,
     "metadata": {},
     "output_type": "execute_result"
    },
    {
     "data": {
      "text/latex": [
       "$\\displaystyle - a_{z} \\sin{\\left(\\theta_{2} \\right)} - \\left(a_{x} \\sin{\\left(\\theta_{1} \\right)} - a_{y} \\cos{\\left(\\theta_{1} \\right)}\\right) \\cos{\\left(\\theta_{2} \\right)} = \\sin{\\left(\\theta_{6} \\right)}$"
      ],
      "text/plain": [
       "Eq(-a_z*sin(theta_2) - (a_x*sin(theta_1) - a_y*cos(theta_1))*cos(theta_2), sin(theta_6))"
      ]
     },
     "execution_count": 77,
     "metadata": {},
     "output_type": "execute_result"
    },
    {
     "data": {
      "text/latex": [
       "$\\displaystyle s_{z} \\sin{\\left(\\theta_{2} \\right)} + \\left(s_{x} \\sin{\\left(\\theta_{1} \\right)} - s_{y} \\cos{\\left(\\theta_{1} \\right)}\\right) \\cos{\\left(\\theta_{2} \\right)} = \\sin{\\left(\\theta_{7} \\right)} \\cos{\\left(\\theta_{6} \\right)}$"
      ],
      "text/plain": [
       "Eq(s_z*sin(theta_2) + (s_x*sin(theta_1) - s_y*cos(theta_1))*cos(theta_2), sin(theta_7)*cos(theta_6))"
      ]
     },
     "execution_count": 77,
     "metadata": {},
     "output_type": "execute_result"
    },
    {
     "data": {
      "text/latex": [
       "$\\displaystyle \\left(p_{z} - 0.12\\right) \\sin{\\left(\\theta_{2} \\right)} + \\left(p_{x} \\sin{\\left(\\theta_{1} \\right)} - p_{y} \\cos{\\left(\\theta_{1} \\right)}\\right) \\cos{\\left(\\theta_{2} \\right)} = - 0.12 \\sin{\\left(\\theta_{6} \\right)} - 0.3$"
      ],
      "text/plain": [
       "Eq((p_z - 0.12)*sin(theta_2) + (p_x*sin(theta_1) - p_y*cos(theta_1))*cos(theta_2), -0.12*sin(theta_6) - 0.3)"
      ]
     },
     "execution_count": 77,
     "metadata": {},
     "output_type": "execute_result"
    }
   ],
   "source": [
    "lhs1 = sp.simplify(LHS[0, 0] * sp.cos(sp.Symbol('theta_2')) - LHS[2, 0] * sp.sin(sp.Symbol('theta_2')))\n",
    "rhs1 = sp.simplify(RHS[0, 0] * sp.cos(sp.Symbol('theta_2')) - RHS[2, 0] * sp.sin(sp.Symbol('theta_2')))\n",
    "sp.Eq(lhs1, rhs1)\n",
    "\n",
    "lhs2 = sp.simplify(LHS[0, 2] * sp.cos(sp.Symbol('theta_2')) - LHS[2, 2] * sp.sin(sp.Symbol('theta_2')))\n",
    "rhs2 = sp.simplify(RHS[0, 2] * sp.cos(sp.Symbol('theta_2')) - RHS[2, 2] * sp.sin(sp.Symbol('theta_2')))\n",
    "sp.Eq(lhs2, rhs2)\n",
    "\n",
    "lhs3 = sp.simplify(LHS[2, 1] * sp.sin(sp.Symbol('theta_2')) - LHS[0, 1] * sp.cos(sp.Symbol('theta_2')))\n",
    "rhs3 = sp.simplify(RHS[2, 1] * sp.sin(sp.Symbol('theta_2')) - RHS[0, 1] * sp.cos(sp.Symbol('theta_2')))\n",
    "sp.Eq(lhs3, rhs3)\n",
    "\n",
    "lhs4 = sp.simplify(LHS[2, 3] * sp.sin(sp.Symbol('theta_2')) - LHS[0, 3] * sp.cos(sp.Symbol('theta_2')))\n",
    "rhs4 = sp.simplify(RHS[2, 3] * sp.sin(sp.Symbol('theta_2')) - RHS[0, 3] * sp.cos(sp.Symbol('theta_2')))\n",
    "sp.Eq(lhs4, rhs4)\n",
    "\n",
    "lhs_for_theta_5 = LHS[1, 0]"
   ]
  },
  {
   "cell_type": "code",
   "execution_count": 98,
   "metadata": {},
   "outputs": [
    {
     "data": {
      "text/latex": [
       "$\\displaystyle \\operatorname{asin}{\\left(\\frac{- 0.12 a_{z} + p_{z} - 0.12}{\\sqrt{\\left(- 0.12 a_{z} + p_{z} - 0.12\\right)^{2} + \\left(- 0.12 a_{x} \\sin{\\left(\\theta_{1} \\right)} + 0.12 a_{y} \\cos{\\left(\\theta_{1} \\right)} + p_{x} \\sin{\\left(\\theta_{1} \\right)} - p_{y} \\cos{\\left(\\theta_{1} \\right)}\\right)^{2}}} \\right)} - \\operatorname{atan_{2}}{\\left(- 0.12 a_{z} + p_{z} - 0.12,- 0.12 a_{x} \\sin{\\left(\\theta_{1} \\right)} + 0.12 a_{y} \\cos{\\left(\\theta_{1} \\right)} + p_{x} \\sin{\\left(\\theta_{1} \\right)} - p_{y} \\cos{\\left(\\theta_{1} \\right)} \\right)}$"
      ],
      "text/plain": [
       "asin((-0.12*a_z + p_z - 0.12)/sqrt((-0.12*a_z + p_z - 0.12)**2 + (-0.12*a_x*sin(theta_1) + 0.12*a_y*cos(theta_1) + p_x*sin(theta_1) - p_y*cos(theta_1))**2)) - atan2(-0.12*a_z + p_z - 0.12, -0.12*a_x*sin(theta_1) + 0.12*a_y*cos(theta_1) + p_x*sin(theta_1) - p_y*cos(theta_1))"
      ]
     },
     "execution_count": 98,
     "metadata": {},
     "output_type": "execute_result"
    },
    {
     "data": {
      "text/latex": [
       "$\\displaystyle - \\operatorname{asin}{\\left(\\frac{- 0.12 a_{z} + p_{z} - 0.12}{\\sqrt{\\left(- 0.12 a_{z} + p_{z} - 0.12\\right)^{2} + \\left(- 0.12 a_{x} \\sin{\\left(\\theta_{1} \\right)} + 0.12 a_{y} \\cos{\\left(\\theta_{1} \\right)} + p_{x} \\sin{\\left(\\theta_{1} \\right)} - p_{y} \\cos{\\left(\\theta_{1} \\right)}\\right)^{2}}} \\right)} - \\operatorname{atan_{2}}{\\left(- 0.12 a_{z} + p_{z} - 0.12,- 0.12 a_{x} \\sin{\\left(\\theta_{1} \\right)} + 0.12 a_{y} \\cos{\\left(\\theta_{1} \\right)} + p_{x} \\sin{\\left(\\theta_{1} \\right)} - p_{y} \\cos{\\left(\\theta_{1} \\right)} \\right)} + \\pi$"
      ],
      "text/plain": [
       "-asin((-0.12*a_z + p_z - 0.12)/sqrt((-0.12*a_z + p_z - 0.12)**2 + (-0.12*a_x*sin(theta_1) + 0.12*a_y*cos(theta_1) + p_x*sin(theta_1) - p_y*cos(theta_1))**2)) - atan2(-0.12*a_z + p_z - 0.12, -0.12*a_x*sin(theta_1) + 0.12*a_y*cos(theta_1) + p_x*sin(theta_1) - p_y*cos(theta_1)) + pi"
      ]
     },
     "execution_count": 98,
     "metadata": {},
     "output_type": "execute_result"
    }
   ],
   "source": [
    "# Calculate theta_2\n",
    "a = (lhs4 + 0.12 * lhs2 + 0.3).coeff(sp.sin(sp.Symbol('theta_2')))\n",
    "b = (lhs4 + 0.12 * lhs2 + 0.3).coeff(sp.cos(sp.Symbol('theta_2')))\n",
    "Phi = sp.atan2(a, b)\n",
    "phi = sp.asin(a/sp.sqrt(a**2 + b**2))\n",
    "\n",
    "phi - Phi\n",
    "sp.pi - phi - Phi"
   ]
  },
  {
   "cell_type": "code",
   "execution_count": 94,
   "metadata": {},
   "outputs": [
    {
     "data": {
      "text/latex": [
       "$\\displaystyle - \\operatorname{asin}{\\left(a_{z} \\sin{\\left(\\theta_{2} \\right)} + \\left(a_{x} \\sin{\\left(\\theta_{1} \\right)} - a_{y} \\cos{\\left(\\theta_{1} \\right)}\\right) \\cos{\\left(\\theta_{2} \\right)} \\right)}$"
      ],
      "text/plain": [
       "-asin(a_z*sin(theta_2) + (a_x*sin(theta_1) - a_y*cos(theta_1))*cos(theta_2))"
      ]
     },
     "execution_count": 94,
     "metadata": {},
     "output_type": "execute_result"
    }
   ],
   "source": [
    "# Calculate theta_6\n",
    "\n",
    "sp.asin(lhs2)\n",
    "-sp.asin(rhs2)"
   ]
  },
  {
   "cell_type": "code",
   "execution_count": 100,
   "metadata": {},
   "outputs": [
    {
     "data": {
      "text/latex": [
       "$\\displaystyle \\operatorname{atan_{2}}{\\left(s_{z} \\sin{\\left(\\theta_{2} \\right)} + \\left(s_{x} \\sin{\\left(\\theta_{1} \\right)} - s_{y} \\cos{\\left(\\theta_{1} \\right)}\\right) \\cos{\\left(\\theta_{2} \\right)},- n_{z} \\sin{\\left(\\theta_{2} \\right)} - \\left(n_{x} \\sin{\\left(\\theta_{1} \\right)} - n_{y} \\cos{\\left(\\theta_{1} \\right)}\\right) \\cos{\\left(\\theta_{2} \\right)} \\right)}$"
      ],
      "text/plain": [
       "atan2(s_z*sin(theta_2) + (s_x*sin(theta_1) - s_y*cos(theta_1))*cos(theta_2), -n_z*sin(theta_2) - (n_x*sin(theta_1) - n_y*cos(theta_1))*cos(theta_2))"
      ]
     },
     "execution_count": 100,
     "metadata": {},
     "output_type": "execute_result"
    }
   ],
   "source": [
    "# Calculate theta_7\n",
    "sp.atan2(lhs3, lhs1)"
   ]
  },
  {
   "cell_type": "code",
   "execution_count": 107,
   "metadata": {},
   "outputs": [],
   "source": [
    "T_2_0 = sp.simplify(T_1_2.inv() * T_0_1.inv())\n",
    "T_7_5 = sp.simplify(T_6_7.inv() * T_5_6.inv())\n",
    "\n",
    "LHS = sp.simplify(T_2_0 * T_0_7 * T_7_5)\n",
    "RHS = sp.simplify(T_2_3 * T_3_4 * T_4_5)"
   ]
  },
  {
   "cell_type": "code",
   "execution_count": 128,
   "metadata": {},
   "outputs": [
    {
     "data": {
      "text/latex": [
       "$\\displaystyle \\left(- a_{x} \\sin{\\left(\\theta_{1} \\right)} \\sin{\\left(\\theta_{2} \\right)} + a_{y} \\sin{\\left(\\theta_{2} \\right)} \\cos{\\left(\\theta_{1} \\right)} + a_{z} \\cos{\\left(\\theta_{2} \\right)}\\right) \\cos{\\left(\\theta_{6} \\right)} - \\left(- n_{x} \\sin{\\left(\\theta_{1} \\right)} \\sin{\\left(\\theta_{2} \\right)} + n_{y} \\sin{\\left(\\theta_{2} \\right)} \\cos{\\left(\\theta_{1} \\right)} + n_{z} \\cos{\\left(\\theta_{2} \\right)}\\right) \\sin{\\left(\\theta_{6} \\right)} \\cos{\\left(\\theta_{7} \\right)} + \\left(- s_{x} \\sin{\\left(\\theta_{1} \\right)} \\sin{\\left(\\theta_{2} \\right)} + s_{y} \\sin{\\left(\\theta_{2} \\right)} \\cos{\\left(\\theta_{1} \\right)} + s_{z} \\cos{\\left(\\theta_{2} \\right)}\\right) \\sin{\\left(\\theta_{6} \\right)} \\sin{\\left(\\theta_{7} \\right)} = - \\cos{\\left(\\theta_{3} + \\theta_{4} + \\theta_{5} \\right)}$"
      ],
      "text/plain": [
       "Eq((-a_x*sin(theta_1)*sin(theta_2) + a_y*sin(theta_2)*cos(theta_1) + a_z*cos(theta_2))*cos(theta_6) - (-n_x*sin(theta_1)*sin(theta_2) + n_y*sin(theta_2)*cos(theta_1) + n_z*cos(theta_2))*sin(theta_6)*cos(theta_7) + (-s_x*sin(theta_1)*sin(theta_2) + s_y*sin(theta_2)*cos(theta_1) + s_z*cos(theta_2))*sin(theta_6)*sin(theta_7), -cos(theta_3 + theta_4 + theta_5))"
      ]
     },
     "execution_count": 128,
     "metadata": {},
     "output_type": "execute_result"
    },
    {
     "data": {
      "text/latex": [
       "$\\displaystyle - \\left(- n_{x} \\sin{\\left(\\theta_{1} \\right)} \\sin{\\left(\\theta_{2} \\right)} + n_{y} \\sin{\\left(\\theta_{2} \\right)} \\cos{\\left(\\theta_{1} \\right)} + n_{z} \\cos{\\left(\\theta_{2} \\right)}\\right) \\sin{\\left(\\theta_{7} \\right)} - \\left(- s_{x} \\sin{\\left(\\theta_{1} \\right)} \\sin{\\left(\\theta_{2} \\right)} + s_{y} \\sin{\\left(\\theta_{2} \\right)} \\cos{\\left(\\theta_{1} \\right)} + s_{z} \\cos{\\left(\\theta_{2} \\right)}\\right) \\cos{\\left(\\theta_{7} \\right)} = \\sin{\\left(\\theta_{3} + \\theta_{4} + \\theta_{5} \\right)}$"
      ],
      "text/plain": [
       "Eq(-(-n_x*sin(theta_1)*sin(theta_2) + n_y*sin(theta_2)*cos(theta_1) + n_z*cos(theta_2))*sin(theta_7) - (-s_x*sin(theta_1)*sin(theta_2) + s_y*sin(theta_2)*cos(theta_1) + s_z*cos(theta_2))*cos(theta_7), sin(theta_3 + theta_4 + theta_5))"
      ]
     },
     "execution_count": 128,
     "metadata": {},
     "output_type": "execute_result"
    },
    {
     "data": {
      "text/latex": [
       "$\\displaystyle \\left(- a_{x} \\sin{\\left(\\theta_{1} \\right)} \\sin{\\left(\\theta_{2} \\right)} + a_{y} \\sin{\\left(\\theta_{2} \\right)} \\cos{\\left(\\theta_{1} \\right)} + a_{z} \\cos{\\left(\\theta_{2} \\right)}\\right) \\sin{\\left(\\theta_{6} \\right)} + \\left(- n_{x} \\sin{\\left(\\theta_{1} \\right)} \\sin{\\left(\\theta_{2} \\right)} + n_{y} \\sin{\\left(\\theta_{2} \\right)} \\cos{\\left(\\theta_{1} \\right)} + n_{z} \\cos{\\left(\\theta_{2} \\right)}\\right) \\cos{\\left(\\theta_{6} \\right)} \\cos{\\left(\\theta_{7} \\right)} - \\left(- s_{x} \\sin{\\left(\\theta_{1} \\right)} \\sin{\\left(\\theta_{2} \\right)} + s_{y} \\sin{\\left(\\theta_{2} \\right)} \\cos{\\left(\\theta_{1} \\right)} + s_{z} \\cos{\\left(\\theta_{2} \\right)}\\right) \\sin{\\left(\\theta_{7} \\right)} \\cos{\\left(\\theta_{6} \\right)} = 0$"
      ],
      "text/plain": [
       "Eq((-a_x*sin(theta_1)*sin(theta_2) + a_y*sin(theta_2)*cos(theta_1) + a_z*cos(theta_2))*sin(theta_6) + (-n_x*sin(theta_1)*sin(theta_2) + n_y*sin(theta_2)*cos(theta_1) + n_z*cos(theta_2))*cos(theta_6)*cos(theta_7) - (-s_x*sin(theta_1)*sin(theta_2) + s_y*sin(theta_2)*cos(theta_1) + s_z*cos(theta_2))*sin(theta_7)*cos(theta_6), 0)"
      ]
     },
     "execution_count": 128,
     "metadata": {},
     "output_type": "execute_result"
    },
    {
     "data": {
      "text/latex": [
       "$\\displaystyle 0.12 a_{x} \\sin{\\left(\\theta_{1} \\right)} \\sin{\\left(\\theta_{2} \\right)} - 0.12 a_{y} \\sin{\\left(\\theta_{2} \\right)} \\cos{\\left(\\theta_{1} \\right)} - 0.12 a_{z} \\cos{\\left(\\theta_{2} \\right)} - p_{x} \\sin{\\left(\\theta_{1} \\right)} \\sin{\\left(\\theta_{2} \\right)} + p_{y} \\sin{\\left(\\theta_{2} \\right)} \\cos{\\left(\\theta_{1} \\right)} + p_{z} \\cos{\\left(\\theta_{2} \\right)} - 0.1 \\left(- n_{x} \\sin{\\left(\\theta_{1} \\right)} \\sin{\\left(\\theta_{2} \\right)} + n_{y} \\sin{\\left(\\theta_{2} \\right)} \\cos{\\left(\\theta_{1} \\right)} + n_{z} \\cos{\\left(\\theta_{2} \\right)}\\right) \\sin{\\left(\\theta_{7} \\right)} - 0.1 \\left(- s_{x} \\sin{\\left(\\theta_{1} \\right)} \\sin{\\left(\\theta_{2} \\right)} + s_{y} \\sin{\\left(\\theta_{2} \\right)} \\cos{\\left(\\theta_{1} \\right)} + s_{z} \\cos{\\left(\\theta_{2} \\right)}\\right) \\cos{\\left(\\theta_{7} \\right)} - 0.12 \\cos{\\left(\\theta_{2} \\right)} = 0.4 \\cos{\\left(\\theta_{3} \\right)} - 0.4 \\cos{\\left(\\theta_{3} + \\theta_{4} \\right)}$"
      ],
      "text/plain": [
       "Eq(0.12*a_x*sin(theta_1)*sin(theta_2) - 0.12*a_y*sin(theta_2)*cos(theta_1) - 0.12*a_z*cos(theta_2) - p_x*sin(theta_1)*sin(theta_2) + p_y*sin(theta_2)*cos(theta_1) + p_z*cos(theta_2) - 0.1*(-n_x*sin(theta_1)*sin(theta_2) + n_y*sin(theta_2)*cos(theta_1) + n_z*cos(theta_2))*sin(theta_7) - 0.1*(-s_x*sin(theta_1)*sin(theta_2) + s_y*sin(theta_2)*cos(theta_1) + s_z*cos(theta_2))*cos(theta_7) - 0.12*cos(theta_2), 0.4*cos(theta_3) - 0.4*cos(theta_3 + theta_4))"
      ]
     },
     "execution_count": 128,
     "metadata": {},
     "output_type": "execute_result"
    },
    {
     "data": {
      "text/latex": [
       "$\\displaystyle - \\left(a_{x} \\sin{\\left(\\theta_{1} \\right)} \\cos{\\left(\\theta_{2} \\right)} - a_{y} \\cos{\\left(\\theta_{1} \\right)} \\cos{\\left(\\theta_{2} \\right)} + a_{z} \\sin{\\left(\\theta_{2} \\right)}\\right) \\cos{\\left(\\theta_{6} \\right)} + \\left(n_{x} \\sin{\\left(\\theta_{1} \\right)} \\cos{\\left(\\theta_{2} \\right)} - n_{y} \\cos{\\left(\\theta_{1} \\right)} \\cos{\\left(\\theta_{2} \\right)} + n_{z} \\sin{\\left(\\theta_{2} \\right)}\\right) \\sin{\\left(\\theta_{6} \\right)} \\cos{\\left(\\theta_{7} \\right)} - \\left(s_{x} \\sin{\\left(\\theta_{1} \\right)} \\cos{\\left(\\theta_{2} \\right)} - s_{y} \\cos{\\left(\\theta_{1} \\right)} \\cos{\\left(\\theta_{2} \\right)} + s_{z} \\sin{\\left(\\theta_{2} \\right)}\\right) \\sin{\\left(\\theta_{6} \\right)} \\sin{\\left(\\theta_{7} \\right)} = 0$"
      ],
      "text/plain": [
       "Eq(-(a_x*sin(theta_1)*cos(theta_2) - a_y*cos(theta_1)*cos(theta_2) + a_z*sin(theta_2))*cos(theta_6) + (n_x*sin(theta_1)*cos(theta_2) - n_y*cos(theta_1)*cos(theta_2) + n_z*sin(theta_2))*sin(theta_6)*cos(theta_7) - (s_x*sin(theta_1)*cos(theta_2) - s_y*cos(theta_1)*cos(theta_2) + s_z*sin(theta_2))*sin(theta_6)*sin(theta_7), 0)"
      ]
     },
     "execution_count": 128,
     "metadata": {},
     "output_type": "execute_result"
    },
    {
     "data": {
      "text/latex": [
       "$\\displaystyle \\left(n_{x} \\sin{\\left(\\theta_{1} \\right)} \\cos{\\left(\\theta_{2} \\right)} - n_{y} \\cos{\\left(\\theta_{1} \\right)} \\cos{\\left(\\theta_{2} \\right)} + n_{z} \\sin{\\left(\\theta_{2} \\right)}\\right) \\sin{\\left(\\theta_{7} \\right)} + \\left(s_{x} \\sin{\\left(\\theta_{1} \\right)} \\cos{\\left(\\theta_{2} \\right)} - s_{y} \\cos{\\left(\\theta_{1} \\right)} \\cos{\\left(\\theta_{2} \\right)} + s_{z} \\sin{\\left(\\theta_{2} \\right)}\\right) \\cos{\\left(\\theta_{7} \\right)} = 0$"
      ],
      "text/plain": [
       "Eq((n_x*sin(theta_1)*cos(theta_2) - n_y*cos(theta_1)*cos(theta_2) + n_z*sin(theta_2))*sin(theta_7) + (s_x*sin(theta_1)*cos(theta_2) - s_y*cos(theta_1)*cos(theta_2) + s_z*sin(theta_2))*cos(theta_7), 0)"
      ]
     },
     "execution_count": 128,
     "metadata": {},
     "output_type": "execute_result"
    },
    {
     "data": {
      "text/latex": [
       "$\\displaystyle - \\left(a_{x} \\sin{\\left(\\theta_{1} \\right)} \\cos{\\left(\\theta_{2} \\right)} - a_{y} \\cos{\\left(\\theta_{1} \\right)} \\cos{\\left(\\theta_{2} \\right)} + a_{z} \\sin{\\left(\\theta_{2} \\right)}\\right) \\sin{\\left(\\theta_{6} \\right)} - \\left(n_{x} \\sin{\\left(\\theta_{1} \\right)} \\cos{\\left(\\theta_{2} \\right)} - n_{y} \\cos{\\left(\\theta_{1} \\right)} \\cos{\\left(\\theta_{2} \\right)} + n_{z} \\sin{\\left(\\theta_{2} \\right)}\\right) \\cos{\\left(\\theta_{6} \\right)} \\cos{\\left(\\theta_{7} \\right)} + \\left(s_{x} \\sin{\\left(\\theta_{1} \\right)} \\cos{\\left(\\theta_{2} \\right)} - s_{y} \\cos{\\left(\\theta_{1} \\right)} \\cos{\\left(\\theta_{2} \\right)} + s_{z} \\sin{\\left(\\theta_{2} \\right)}\\right) \\sin{\\left(\\theta_{7} \\right)} \\cos{\\left(\\theta_{6} \\right)} = 1$"
      ],
      "text/plain": [
       "Eq(-(a_x*sin(theta_1)*cos(theta_2) - a_y*cos(theta_1)*cos(theta_2) + a_z*sin(theta_2))*sin(theta_6) - (n_x*sin(theta_1)*cos(theta_2) - n_y*cos(theta_1)*cos(theta_2) + n_z*sin(theta_2))*cos(theta_6)*cos(theta_7) + (s_x*sin(theta_1)*cos(theta_2) - s_y*cos(theta_1)*cos(theta_2) + s_z*sin(theta_2))*sin(theta_7)*cos(theta_6), 1)"
      ]
     },
     "execution_count": 128,
     "metadata": {},
     "output_type": "execute_result"
    },
    {
     "data": {
      "text/latex": [
       "$\\displaystyle 0.12 a_{x} \\sin{\\left(\\theta_{1} \\right)} \\cos{\\left(\\theta_{2} \\right)} - 0.12 a_{y} \\cos{\\left(\\theta_{1} \\right)} \\cos{\\left(\\theta_{2} \\right)} + 0.12 a_{z} \\sin{\\left(\\theta_{2} \\right)} - p_{x} \\sin{\\left(\\theta_{1} \\right)} \\cos{\\left(\\theta_{2} \\right)} + p_{y} \\cos{\\left(\\theta_{1} \\right)} \\cos{\\left(\\theta_{2} \\right)} - p_{z} \\sin{\\left(\\theta_{2} \\right)} + 0.1 \\left(n_{x} \\sin{\\left(\\theta_{1} \\right)} \\cos{\\left(\\theta_{2} \\right)} - n_{y} \\cos{\\left(\\theta_{1} \\right)} \\cos{\\left(\\theta_{2} \\right)} + n_{z} \\sin{\\left(\\theta_{2} \\right)}\\right) \\sin{\\left(\\theta_{7} \\right)} + 0.1 \\left(s_{x} \\sin{\\left(\\theta_{1} \\right)} \\cos{\\left(\\theta_{2} \\right)} - s_{y} \\cos{\\left(\\theta_{1} \\right)} \\cos{\\left(\\theta_{2} \\right)} + s_{z} \\sin{\\left(\\theta_{2} \\right)}\\right) \\cos{\\left(\\theta_{7} \\right)} + 0.12 \\sin{\\left(\\theta_{2} \\right)} = 0.3$"
      ],
      "text/plain": [
       "Eq(0.12*a_x*sin(theta_1)*cos(theta_2) - 0.12*a_y*cos(theta_1)*cos(theta_2) + 0.12*a_z*sin(theta_2) - p_x*sin(theta_1)*cos(theta_2) + p_y*cos(theta_1)*cos(theta_2) - p_z*sin(theta_2) + 0.1*(n_x*sin(theta_1)*cos(theta_2) - n_y*cos(theta_1)*cos(theta_2) + n_z*sin(theta_2))*sin(theta_7) + 0.1*(s_x*sin(theta_1)*cos(theta_2) - s_y*cos(theta_1)*cos(theta_2) + s_z*sin(theta_2))*cos(theta_7) + 0.12*sin(theta_2), 0.3)"
      ]
     },
     "execution_count": 128,
     "metadata": {},
     "output_type": "execute_result"
    },
    {
     "data": {
      "text/latex": [
       "$\\displaystyle - \\left(a_{x} \\cos{\\left(\\theta_{1} \\right)} + a_{y} \\sin{\\left(\\theta_{1} \\right)}\\right) \\cos{\\left(\\theta_{6} \\right)} + \\left(n_{x} \\cos{\\left(\\theta_{1} \\right)} + n_{y} \\sin{\\left(\\theta_{1} \\right)}\\right) \\sin{\\left(\\theta_{6} \\right)} \\cos{\\left(\\theta_{7} \\right)} - \\left(s_{x} \\cos{\\left(\\theta_{1} \\right)} + s_{y} \\sin{\\left(\\theta_{1} \\right)}\\right) \\sin{\\left(\\theta_{6} \\right)} \\sin{\\left(\\theta_{7} \\right)} = \\sin{\\left(\\theta_{3} + \\theta_{4} + \\theta_{5} \\right)}$"
      ],
      "text/plain": [
       "Eq(-(a_x*cos(theta_1) + a_y*sin(theta_1))*cos(theta_6) + (n_x*cos(theta_1) + n_y*sin(theta_1))*sin(theta_6)*cos(theta_7) - (s_x*cos(theta_1) + s_y*sin(theta_1))*sin(theta_6)*sin(theta_7), sin(theta_3 + theta_4 + theta_5))"
      ]
     },
     "execution_count": 128,
     "metadata": {},
     "output_type": "execute_result"
    },
    {
     "data": {
      "text/latex": [
       "$\\displaystyle \\left(n_{x} \\cos{\\left(\\theta_{1} \\right)} + n_{y} \\sin{\\left(\\theta_{1} \\right)}\\right) \\sin{\\left(\\theta_{7} \\right)} + \\left(s_{x} \\cos{\\left(\\theta_{1} \\right)} + s_{y} \\sin{\\left(\\theta_{1} \\right)}\\right) \\cos{\\left(\\theta_{7} \\right)} = \\cos{\\left(\\theta_{3} + \\theta_{4} + \\theta_{5} \\right)}$"
      ],
      "text/plain": [
       "Eq((n_x*cos(theta_1) + n_y*sin(theta_1))*sin(theta_7) + (s_x*cos(theta_1) + s_y*sin(theta_1))*cos(theta_7), cos(theta_3 + theta_4 + theta_5))"
      ]
     },
     "execution_count": 128,
     "metadata": {},
     "output_type": "execute_result"
    },
    {
     "data": {
      "text/latex": [
       "$\\displaystyle - \\left(a_{x} \\cos{\\left(\\theta_{1} \\right)} + a_{y} \\sin{\\left(\\theta_{1} \\right)}\\right) \\sin{\\left(\\theta_{6} \\right)} - \\left(n_{x} \\cos{\\left(\\theta_{1} \\right)} + n_{y} \\sin{\\left(\\theta_{1} \\right)}\\right) \\cos{\\left(\\theta_{6} \\right)} \\cos{\\left(\\theta_{7} \\right)} + \\left(s_{x} \\cos{\\left(\\theta_{1} \\right)} + s_{y} \\sin{\\left(\\theta_{1} \\right)}\\right) \\sin{\\left(\\theta_{7} \\right)} \\cos{\\left(\\theta_{6} \\right)} = 0$"
      ],
      "text/plain": [
       "Eq(-(a_x*cos(theta_1) + a_y*sin(theta_1))*sin(theta_6) - (n_x*cos(theta_1) + n_y*sin(theta_1))*cos(theta_6)*cos(theta_7) + (s_x*cos(theta_1) + s_y*sin(theta_1))*sin(theta_7)*cos(theta_6), 0)"
      ]
     },
     "execution_count": 128,
     "metadata": {},
     "output_type": "execute_result"
    },
    {
     "data": {
      "text/latex": [
       "$\\displaystyle 0.12 a_{x} \\cos{\\left(\\theta_{1} \\right)} + 0.12 a_{y} \\sin{\\left(\\theta_{1} \\right)} - p_{x} \\cos{\\left(\\theta_{1} \\right)} - p_{y} \\sin{\\left(\\theta_{1} \\right)} + 0.1 \\left(n_{x} \\cos{\\left(\\theta_{1} \\right)} + n_{y} \\sin{\\left(\\theta_{1} \\right)}\\right) \\sin{\\left(\\theta_{7} \\right)} + 0.1 \\left(s_{x} \\cos{\\left(\\theta_{1} \\right)} + s_{y} \\sin{\\left(\\theta_{1} \\right)}\\right) \\cos{\\left(\\theta_{7} \\right)} - 0.1 = - 0.4 \\sin{\\left(\\theta_{3} \\right)} + 0.4 \\sin{\\left(\\theta_{3} + \\theta_{4} \\right)}$"
      ],
      "text/plain": [
       "Eq(0.12*a_x*cos(theta_1) + 0.12*a_y*sin(theta_1) - p_x*cos(theta_1) - p_y*sin(theta_1) + 0.1*(n_x*cos(theta_1) + n_y*sin(theta_1))*sin(theta_7) + 0.1*(s_x*cos(theta_1) + s_y*sin(theta_1))*cos(theta_7) - 0.1, -0.4*sin(theta_3) + 0.4*sin(theta_3 + theta_4))"
      ]
     },
     "execution_count": 128,
     "metadata": {},
     "output_type": "execute_result"
    }
   ],
   "source": [
    "from IPython.core.interactiveshell import InteractiveShell\n",
    "InteractiveShell.ast_node_interactivity = \"all\"\n",
    "\n",
    "equations = []\n",
    "\n",
    "for i in range(3):\n",
    "    for j in range(4):\n",
    "        eq = sp.Eq(sp.simplify(LHS[i, j]), sp.simplify(RHS[i, j]))\n",
    "        equations.append(eq)\n",
    "        eq"
   ]
  },
  {
   "cell_type": "code",
   "execution_count": 115,
   "metadata": {},
   "outputs": [],
   "source": [
    "# Calculate theta_4\n",
    "\n",
    "A = sp.simplify(LHS[0, 3])\n",
    "B = sp.simplify(LHS[2, 3])\n",
    "rhs1 = sp.simplify(sp.Pow(RHS[0, 3], 2) + sp.Pow(RHS[2, 3], 2))\n",
    "\n",
    "# sp.Pow(wA, 2) + sp.Pow(B, 2) - rhs1\n"
   ]
  },
  {
   "cell_type": "code",
   "execution_count": 126,
   "metadata": {},
   "outputs": [
    {
     "data": {
      "text/latex": [
       "$\\displaystyle 0.4 \\cos{\\left(\\theta_{3} \\right)} - 0.4 \\cos{\\left(\\theta_{3} + \\theta_{4} \\right)}$"
      ],
      "text/plain": [
       "0.4*cos(theta_3) - 0.4*cos(theta_3 + theta_4)"
      ]
     },
     "execution_count": 126,
     "metadata": {},
     "output_type": "execute_result"
    },
    {
     "data": {
      "text/latex": [
       "$\\displaystyle - 0.4 \\sin{\\left(\\theta_{3} \\right)} + 0.4 \\sin{\\left(\\theta_{3} + \\theta_{4} \\right)}$"
      ],
      "text/plain": [
       "-0.4*sin(theta_3) + 0.4*sin(theta_3 + theta_4)"
      ]
     },
     "execution_count": 126,
     "metadata": {},
     "output_type": "execute_result"
    }
   ],
   "source": [
    "# Calculate theta_3\n",
    "\n",
    "RHS[0, 3]\n",
    "RHS[2, 3]"
   ]
  },
  {
   "cell_type": "code",
   "execution_count": null,
   "metadata": {},
   "outputs": [],
   "source": [
    "# Calculate theta_5 TO DO"
   ]
  }
 ],
 "metadata": {
  "kernelspec": {
   "display_name": "robotics",
   "language": "python",
   "name": "python3"
  },
  "language_info": {
   "codemirror_mode": {
    "name": "ipython",
    "version": 3
   },
   "file_extension": ".py",
   "mimetype": "text/x-python",
   "name": "python",
   "nbconvert_exporter": "python",
   "pygments_lexer": "ipython3",
   "version": "3.9.13"
  },
  "orig_nbformat": 4
 },
 "nbformat": 4,
 "nbformat_minor": 2
}
