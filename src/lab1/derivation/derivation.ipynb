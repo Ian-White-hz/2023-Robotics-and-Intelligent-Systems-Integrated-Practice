{
 "cells": [
  {
   "cell_type": "code",
   "execution_count": null,
   "metadata": {},
   "outputs": [],
   "source": [
    "from RoboticArm_sym import RoboticArm\n",
    "import sympy as sp\n",
    "\n",
    "from IPython.core.interactiveshell import InteractiveShell\n",
    "InteractiveShell.ast_node_interactivity = \"all\""
   ]
  },
  {
   "cell_type": "code",
   "execution_count": null,
   "metadata": {},
   "outputs": [],
   "source": [
    "arm = RoboticArm()"
   ]
  },
  {
   "cell_type": "code",
   "execution_count": null,
   "metadata": {},
   "outputs": [],
   "source": [
    "T_0_7 = sp.Matrix([\n",
    "    [sp.Symbol('n_x'), sp.Symbol('s_x'), sp.Symbol('a_x'), sp.Symbol('p_x')],\n",
    "    [sp.Symbol('n_y'), sp.Symbol('s_y'), sp.Symbol('a_y'), sp.Symbol('p_y')],\n",
    "    [sp.Symbol('n_z'), sp.Symbol('s_z'), sp.Symbol('a_z'), sp.Symbol('p_z')],\n",
    "    [0, 0, 0, 1]\n",
    "])"
   ]
  },
  {
   "cell_type": "code",
   "execution_count": null,
   "metadata": {},
   "outputs": [],
   "source": [
    "T_0_1 = arm.T_i_ip1[0]; T_0_1\n",
    "T_1_2 = arm.T_i_ip1[1]; T_1_2\n",
    "T_2_3 = arm.T_i_ip1[2]; T_2_3\n",
    "T_3_4 = arm.T_i_ip1[3]; T_3_4\n",
    "T_4_5 = arm.T_i_ip1[4]; T_4_5\n",
    "T_5_6 = arm.T_i_ip1[5]; T_5_6\n",
    "T_6_7 = arm.T_i_ip1[6]; T_6_7"
   ]
  },
  {
   "cell_type": "code",
   "execution_count": null,
   "metadata": {},
   "outputs": [],
   "source": [
    "LHS = sp.simplify(T_0_1.inv() * T_0_7)\n",
    "RHS = sp.simplify(T_1_2 * T_2_3 * T_3_4 * T_4_5 * T_5_6 * T_6_7)"
   ]
  },
  {
   "cell_type": "code",
   "execution_count": null,
   "metadata": {},
   "outputs": [],
   "source": [
    "from IPython.core.interactiveshell import InteractiveShell\n",
    "InteractiveShell.ast_node_interactivity = \"all\"\n",
    "\n",
    "equations = []\n",
    "\n",
    "\n",
    "for i in range(3):\n",
    "    for j in range(4):\n",
    "        eq = sp.Eq(sp.simplify(LHS[i, j]), sp.simplify(RHS[i, j]))\n",
    "        equations.append(eq)\n",
    "        eq"
   ]
  },
  {
   "cell_type": "code",
   "execution_count": null,
   "metadata": {},
   "outputs": [],
   "source": [
    "lhs1 = sp.simplify(LHS[0, 0] * sp.cos(sp.Symbol('theta_2')) - LHS[2, 0] * sp.sin(sp.Symbol('theta_2')))\n",
    "rhs1 = sp.simplify(RHS[0, 0] * sp.cos(sp.Symbol('theta_2')) - RHS[2, 0] * sp.sin(sp.Symbol('theta_2')))\n",
    "sp.Eq(lhs1, rhs1)\n",
    "\n",
    "lhs2 = sp.simplify(LHS[0, 2] * sp.cos(sp.Symbol('theta_2')) - LHS[2, 2] * sp.sin(sp.Symbol('theta_2')))\n",
    "rhs2 = sp.simplify(RHS[0, 2] * sp.cos(sp.Symbol('theta_2')) - RHS[2, 2] * sp.sin(sp.Symbol('theta_2')))\n",
    "sp.Eq(lhs2, rhs2)\n",
    "\n",
    "lhs3 = sp.simplify(LHS[2, 1] * sp.sin(sp.Symbol('theta_2')) - LHS[0, 1] * sp.cos(sp.Symbol('theta_2')))\n",
    "rhs3 = sp.simplify(RHS[2, 1] * sp.sin(sp.Symbol('theta_2')) - RHS[0, 1] * sp.cos(sp.Symbol('theta_2')))\n",
    "sp.Eq(lhs3, rhs3)\n",
    "\n",
    "lhs4 = sp.simplify(LHS[2, 3] * sp.sin(sp.Symbol('theta_2')) - LHS[0, 3] * sp.cos(sp.Symbol('theta_2')))\n",
    "rhs4 = sp.simplify(RHS[2, 3] * sp.sin(sp.Symbol('theta_2')) - RHS[0, 3] * sp.cos(sp.Symbol('theta_2')))\n",
    "sp.Eq(lhs4, rhs4)\n",
    "\n",
    "lhs_for_theta_5 = LHS[1, 0]"
   ]
  },
  {
   "cell_type": "code",
   "execution_count": null,
   "metadata": {},
   "outputs": [],
   "source": [
    "# Calculate theta_2\n",
    "a = (lhs4 + 0.12 * lhs2 + 0.3).coeff(sp.sin(sp.Symbol('theta_2')))\n",
    "b = (lhs4 + 0.12 * lhs2 + 0.3).coeff(sp.cos(sp.Symbol('theta_2')))\n",
    "Phi = sp.atan2(a, b)\n",
    "phi = sp.asin(-0.3/sp.sqrt(a**2 + b**2))\n",
    "a\n",
    "b\n",
    "phi - Phi\n",
    "sp.pi - phi - Phi"
   ]
  },
  {
   "cell_type": "code",
   "execution_count": null,
   "metadata": {},
   "outputs": [],
   "source": [
    "# Calculate theta_6\n",
    "\n",
    "sp.asin(lhs2)\n",
    "-sp.asin(rhs2)"
   ]
  },
  {
   "cell_type": "code",
   "execution_count": null,
   "metadata": {},
   "outputs": [],
   "source": [
    "# Calculate theta_7\n",
    "sp.atan2(lhs3, lhs1)"
   ]
  },
  {
   "cell_type": "code",
   "execution_count": null,
   "metadata": {},
   "outputs": [],
   "source": [
    "T_2_0 = sp.simplify(T_1_2.inv() * T_0_1.inv())\n",
    "T_7_5 = sp.simplify(T_6_7.inv() * T_5_6.inv())\n",
    "\n",
    "LHS = sp.simplify(T_2_0 * T_0_7 * T_7_5)\n",
    "RHS = sp.simplify(T_2_3 * T_3_4 * T_4_5)"
   ]
  },
  {
   "cell_type": "code",
   "execution_count": null,
   "metadata": {},
   "outputs": [],
   "source": [
    "from IPython.core.interactiveshell import InteractiveShell\n",
    "InteractiveShell.ast_node_interactivity = \"all\"\n",
    "\n",
    "equations = []\n",
    "\n",
    "for i in range(3):\n",
    "    for j in range(4):\n",
    "        eq = sp.Eq(sp.simplify(LHS[i, j]), sp.simplify(RHS[i, j]))\n",
    "        equations.append(eq)\n",
    "        eq"
   ]
  },
  {
   "cell_type": "code",
   "execution_count": null,
   "metadata": {},
   "outputs": [],
   "source": [
    "# Calculate theta_4\n",
    "\n",
    "A = sp.simplify(LHS[0, 3])\n",
    "B = sp.simplify(LHS[2, 3])\n",
    "rhs1 = sp.simplify(sp.Pow(RHS[0, 3], 2) + sp.Pow(RHS[2, 3], 2))\n",
    "rhs1\n",
    "# sp.Pow(wA, 2) + sp.Pow(B, 2) - rhs1\n"
   ]
  },
  {
   "cell_type": "code",
   "execution_count": null,
   "metadata": {},
   "outputs": [],
   "source": [
    "# Calculate theta_3\n",
    "\n",
    "RHS[0, 3]\n",
    "RHS[2, 3]"
   ]
  },
  {
   "cell_type": "code",
   "execution_count": null,
   "metadata": {},
   "outputs": [],
   "source": [
    "# Calculate theta_5 "
   ]
  }
 ],
 "metadata": {
  "kernelspec": {
   "display_name": "robotics",
   "language": "python",
   "name": "python3"
  },
  "language_info": {
   "codemirror_mode": {
    "name": "ipython",
    "version": 3
   },
   "file_extension": ".py",
   "mimetype": "text/x-python",
   "name": "python",
   "nbconvert_exporter": "python",
   "pygments_lexer": "ipython3",
   "version": "3.9.13"
  },
  "orig_nbformat": 4
 },
 "nbformat": 4,
 "nbformat_minor": 2
}
