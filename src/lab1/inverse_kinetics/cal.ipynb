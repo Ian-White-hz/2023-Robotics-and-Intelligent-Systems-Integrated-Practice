{
 "cells": [
  {
   "cell_type": "code",
   "execution_count": 8,
   "metadata": {},
   "outputs": [],
   "source": [
    "import sys\n",
    "sys.path.append(\"..\")\n",
    "from forward_kinetics.RoboticArm_sym import RoboticArm\n",
    "import sympy as sp\n",
    "import numpy as np"
   ]
  },
  {
   "cell_type": "code",
   "execution_count": 9,
   "metadata": {},
   "outputs": [],
   "source": [
    "arm = RoboticArm()"
   ]
  },
  {
   "cell_type": "code",
   "execution_count": 5,
   "metadata": {},
   "outputs": [
    {
     "data": {
      "text/latex": [
       "$\\displaystyle \\left[\\begin{matrix}\\sin{\\left(\\theta_{4} \\right)} \\sin{\\left(\\theta_{5} \\right)} - \\cos{\\left(\\theta_{4} \\right)} \\cos{\\left(\\theta_{5} \\right)} & \\sin{\\left(\\theta_{4} \\right)} \\cos{\\left(\\theta_{5} \\right)} + \\sin{\\left(\\theta_{5} \\right)} \\cos{\\left(\\theta_{4} \\right)} & 0 & 400 - 400 \\cos{\\left(\\theta_{4} \\right)}\\\\- \\sin{\\left(\\theta_{4} \\right)} \\cos{\\left(\\theta_{5} \\right)} - \\sin{\\left(\\theta_{5} \\right)} \\cos{\\left(\\theta_{4} \\right)} & \\sin{\\left(\\theta_{4} \\right)} \\sin{\\left(\\theta_{5} \\right)} - \\cos{\\left(\\theta_{4} \\right)} \\cos{\\left(\\theta_{5} \\right)} & 0 & - 400 \\sin{\\left(\\theta_{4} \\right)}\\\\0 & 0 & 1 & 200\\\\0 & 0 & 0 & 1\\end{matrix}\\right]$"
      ],
      "text/plain": [
       "Matrix([\n",
       "[ sin(theta_4)*sin(theta_5) - cos(theta_4)*cos(theta_5), sin(theta_4)*cos(theta_5) + sin(theta_5)*cos(theta_4), 0, 400 - 400*cos(theta_4)],\n",
       "[-sin(theta_4)*cos(theta_5) - sin(theta_5)*cos(theta_4), sin(theta_4)*sin(theta_5) - cos(theta_4)*cos(theta_5), 0,      -400*sin(theta_4)],\n",
       "[                                                     0,                                                     0, 1,                    200],\n",
       "[                                                     0,                                                     0, 0,                      1]])"
      ]
     },
     "execution_count": 5,
     "metadata": {},
     "output_type": "execute_result"
    }
   ],
   "source": [
    "L_equation=arm.T_i_ip1[3]*arm.T_i_ip1[4]\n",
    "L_equation"
   ]
  },
  {
   "cell_type": "code",
   "execution_count": 14,
   "metadata": {},
   "outputs": [
    {
     "data": {
      "text/latex": [
       "$\\displaystyle 0$"
      ],
      "text/plain": [
       "0"
      ]
     },
     "execution_count": 14,
     "metadata": {},
     "output_type": "execute_result"
    }
   ],
   "source": [
    "L_equation[3,2]"
   ]
  },
  {
   "cell_type": "code",
   "execution_count": 35,
   "metadata": {},
   "outputs": [
    {
     "data": {
      "text/latex": [
       "$\\displaystyle \\left[\\begin{matrix}- \\cos{\\left(\\theta_{4} \\right)} & \\sin{\\left(\\theta_{4} \\right)} & 0 & 400\\\\- \\sin{\\left(\\theta_{4} \\right)} & - \\cos{\\left(\\theta_{4} \\right)} & 0 & 0\\\\0 & 0 & 1 & 100\\\\0 & 0 & 0 & 1\\end{matrix}\\right]$"
      ],
      "text/plain": [
       "Matrix([\n",
       "[-cos(theta_4),  sin(theta_4), 0, 400],\n",
       "[-sin(theta_4), -cos(theta_4), 0,   0],\n",
       "[            0,             0, 1, 100],\n",
       "[            0,             0, 0,   1]])"
      ]
     },
     "execution_count": 35,
     "metadata": {},
     "output_type": "execute_result"
    }
   ],
   "source": [
    "R_equation.subs(sp.Symbol(\"theta_3\"), (L/2*np.sin(np.arccos(300/L))-100)/400)\n",
    "sp.simplify(R_equation)"
   ]
  },
  {
   "cell_type": "code",
   "execution_count": 23,
   "metadata": {},
   "outputs": [
    {
     "data": {
      "text/latex": [
       "$\\displaystyle \\left[\\begin{matrix}n_{x} & o_{x} & a_{x} & p_{x}\\\\n_{y} & o_{y} & a_{y} & p_{y}\\\\n_{z} & o_{z} & a_{z} & p_{z}\\\\0 & 0 & 0 & 1\\end{matrix}\\right]$"
      ],
      "text/plain": [
       "Matrix([\n",
       "[n_x, o_x, a_x, p_x],\n",
       "[n_y, o_y, a_y, p_y],\n",
       "[n_z, o_z, a_z, p_z],\n",
       "[  0,   0,   0,   1]])"
      ]
     },
     "execution_count": 23,
     "metadata": {},
     "output_type": "execute_result"
    }
   ],
   "source": [
    "nx=sp.Symbol('n_x')\n",
    "ny=sp.Symbol('n_y')\n",
    "nz=sp.Symbol('n_z')\n",
    "ox=sp.Symbol('o_x')\n",
    "oy=sp.Symbol('o_y')\n",
    "oz=sp.Symbol('o_z')\n",
    "ax=sp.Symbol('a_x')\n",
    "ay=sp.Symbol('a_y')\n",
    "az=sp.Symbol('a_z')\n",
    "px=sp.Symbol('p_x')\n",
    "py=sp.Symbol('p_y')\n",
    "pz=sp.Symbol('p_z')\n",
    "T_target=sp.Matrix([[nx,ox,ax,px],[ny,oy,ay,py],[nz,oz,az,pz],[0,0,0,1]])\n",
    "T_target"
   ]
  },
  {
   "cell_type": "code",
   "execution_count": 32,
   "metadata": {},
   "outputs": [
    {
     "data": {
      "text/latex": [
       "$\\displaystyle \\left[\\begin{matrix}- \\sin{\\left(\\theta_{1} \\right)} & \\cos{\\left(\\theta_{1} \\right)} & 0 & 0\\\\- \\cos{\\left(\\theta_{1} \\right)} & - \\sin{\\left(\\theta_{1} \\right)} & 0 & 0\\\\0 & 0 & 1 & -120\\\\0 & 0 & 0 & 1\\end{matrix}\\right]$"
      ],
      "text/plain": [
       "Matrix([\n",
       "[-sin(theta_1),  cos(theta_1), 0,    0],\n",
       "[-cos(theta_1), -sin(theta_1), 0,    0],\n",
       "[            0,             0, 1, -120],\n",
       "[            0,             0, 0,    1]])"
      ]
     },
     "execution_count": 32,
     "metadata": {},
     "output_type": "execute_result"
    }
   ],
   "source": [
    "T_0_1=arm.T_i_ip1[0]\n",
    "sp.simplify(T_0_1.inv())"
   ]
  },
  {
   "cell_type": "code",
   "execution_count": 30,
   "metadata": {},
   "outputs": [
    {
     "data": {
      "text/latex": [
       "$\\displaystyle \\left[\\begin{matrix}- n_{x} \\sin{\\left(\\theta_{1} \\right)} + n_{y} \\cos{\\left(\\theta_{1} \\right)} & - o_{x} \\sin{\\left(\\theta_{1} \\right)} + o_{y} \\cos{\\left(\\theta_{1} \\right)} & - a_{x} \\sin{\\left(\\theta_{1} \\right)} + a_{y} \\cos{\\left(\\theta_{1} \\right)} & - p_{x} \\sin{\\left(\\theta_{1} \\right)} + p_{y} \\cos{\\left(\\theta_{1} \\right)}\\\\- n_{x} \\cos{\\left(\\theta_{1} \\right)} - n_{y} \\sin{\\left(\\theta_{1} \\right)} & - o_{x} \\cos{\\left(\\theta_{1} \\right)} - o_{y} \\sin{\\left(\\theta_{1} \\right)} & - a_{x} \\cos{\\left(\\theta_{1} \\right)} - a_{y} \\sin{\\left(\\theta_{1} \\right)} & - p_{x} \\cos{\\left(\\theta_{1} \\right)} - p_{y} \\sin{\\left(\\theta_{1} \\right)}\\\\n_{z} & o_{z} & a_{z} & p_{z} - 120\\\\0 & 0 & 0 & 1\\end{matrix}\\right]$"
      ],
      "text/plain": [
       "Matrix([\n",
       "[-n_x*sin(theta_1) + n_y*cos(theta_1), -o_x*sin(theta_1) + o_y*cos(theta_1), -a_x*sin(theta_1) + a_y*cos(theta_1), -p_x*sin(theta_1) + p_y*cos(theta_1)],\n",
       "[-n_x*cos(theta_1) - n_y*sin(theta_1), -o_x*cos(theta_1) - o_y*sin(theta_1), -a_x*cos(theta_1) - a_y*sin(theta_1), -p_x*cos(theta_1) - p_y*sin(theta_1)],\n",
       "[                                 n_z,                                  o_z,                                  a_z,                            p_z - 120],\n",
       "[                                   0,                                    0,                                    0,                                    1]])"
      ]
     },
     "execution_count": 30,
     "metadata": {},
     "output_type": "execute_result"
    }
   ],
   "source": [
    "L=T_0_1.inv()*T_target\n",
    "L=sp.simplify(L)\n",
    "L"
   ]
  },
  {
   "cell_type": "code",
   "execution_count": 31,
   "metadata": {},
   "outputs": [
    {
     "data": {
      "text/latex": [
       "$\\displaystyle \\left[\\begin{matrix}\\cos{\\left(\\theta_{6} \\right)} \\cos{\\left(\\theta_{7} \\right)} & - \\sin{\\left(\\theta_{7} \\right)} \\cos{\\left(\\theta_{6} \\right)} & \\sin{\\left(\\theta_{6} \\right)} & 120 \\sin{\\left(\\theta_{6} \\right)} + 300\\\\- \\sin{\\left(\\theta_{6} \\right)} \\sin{\\left(\\theta_{3} + \\theta_{4} + \\theta_{5} \\right)} \\cos{\\left(\\theta_{7} \\right)} - \\sin{\\left(\\theta_{7} \\right)} \\cos{\\left(\\theta_{3} + \\theta_{4} + \\theta_{5} \\right)} & \\sin{\\left(\\theta_{6} \\right)} \\sin{\\left(\\theta_{7} \\right)} \\sin{\\left(\\theta_{3} + \\theta_{4} + \\theta_{5} \\right)} - \\cos{\\left(\\theta_{7} \\right)} \\cos{\\left(\\theta_{3} + \\theta_{4} + \\theta_{5} \\right)} & \\sin{\\left(\\theta_{3} + \\theta_{4} + \\theta_{5} \\right)} \\cos{\\left(\\theta_{6} \\right)} & - 400 \\sin{\\left(\\theta_{3} \\right)} + 400 \\sin{\\left(\\theta_{3} + \\theta_{4} \\right)} + 120 \\sin{\\left(\\theta_{3} + \\theta_{4} + \\theta_{5} \\right)} \\cos{\\left(\\theta_{6} \\right)} - 100 \\cos{\\left(\\theta_{3} + \\theta_{4} + \\theta_{5} \\right)} + 100\\\\\\sin{\\left(\\theta_{6} \\right)} \\cos{\\left(\\theta_{7} \\right)} \\cos{\\left(\\theta_{3} + \\theta_{4} + \\theta_{5} \\right)} - \\sin{\\left(\\theta_{7} \\right)} \\sin{\\left(\\theta_{3} + \\theta_{4} + \\theta_{5} \\right)} & - \\sin{\\left(\\theta_{6} \\right)} \\sin{\\left(\\theta_{7} \\right)} \\cos{\\left(\\theta_{3} + \\theta_{4} + \\theta_{5} \\right)} - \\sin{\\left(\\theta_{3} + \\theta_{4} + \\theta_{5} \\right)} \\cos{\\left(\\theta_{7} \\right)} & - \\cos{\\left(\\theta_{6} \\right)} \\cos{\\left(\\theta_{3} + \\theta_{4} + \\theta_{5} \\right)} & - 100 \\sin{\\left(\\theta_{3} + \\theta_{4} + \\theta_{5} \\right)} + 400 \\cos{\\left(\\theta_{3} \\right)} - 120 \\cos{\\left(\\theta_{6} \\right)} \\cos{\\left(\\theta_{3} + \\theta_{4} + \\theta_{5} \\right)} - 400 \\cos{\\left(\\theta_{3} + \\theta_{4} \\right)}\\\\0 & 0 & 0 & 1\\end{matrix}\\right]$"
      ],
      "text/plain": [
       "Matrix([\n",
       "[                                                                                  cos(theta_6)*cos(theta_7),                                                                                  -sin(theta_7)*cos(theta_6),                                   sin(theta_6),                                                                                                                          120*sin(theta_6) + 300],\n",
       "[-sin(theta_6)*sin(theta_3 + theta_4 + theta_5)*cos(theta_7) - sin(theta_7)*cos(theta_3 + theta_4 + theta_5),  sin(theta_6)*sin(theta_7)*sin(theta_3 + theta_4 + theta_5) - cos(theta_7)*cos(theta_3 + theta_4 + theta_5),  sin(theta_3 + theta_4 + theta_5)*cos(theta_6), -400*sin(theta_3) + 400*sin(theta_3 + theta_4) + 120*sin(theta_3 + theta_4 + theta_5)*cos(theta_6) - 100*cos(theta_3 + theta_4 + theta_5) + 100],\n",
       "[ sin(theta_6)*cos(theta_7)*cos(theta_3 + theta_4 + theta_5) - sin(theta_7)*sin(theta_3 + theta_4 + theta_5), -sin(theta_6)*sin(theta_7)*cos(theta_3 + theta_4 + theta_5) - sin(theta_3 + theta_4 + theta_5)*cos(theta_7), -cos(theta_6)*cos(theta_3 + theta_4 + theta_5),       -100*sin(theta_3 + theta_4 + theta_5) + 400*cos(theta_3) - 120*cos(theta_6)*cos(theta_3 + theta_4 + theta_5) - 400*cos(theta_3 + theta_4)],\n",
       "[                                                                                                          0,                                                                                                           0,                                              0,                                                                                                                                               1]])"
      ]
     },
     "execution_count": 31,
     "metadata": {},
     "output_type": "execute_result"
    }
   ],
   "source": [
    "T_1_6=arm.T_i_ip1[1]*arm.T_i_ip1[2]*arm.T_i_ip1[3]*arm.T_i_ip1[4]*arm.T_i_ip1[5]*arm.T_i_ip1[6]\n",
    "T_1_6=sp.simplify(T_1_6.subs(sp.Symbol(\"theta_2\"),0))\n",
    "T_1_6"
   ]
  },
  {
   "cell_type": "code",
   "execution_count": 4,
   "metadata": {},
   "outputs": [
    {
     "data": {
      "text/plain": [
       "0.4636476090008061"
      ]
     },
     "execution_count": 4,
     "metadata": {},
     "output_type": "execute_result"
    }
   ],
   "source": [
    "theta=np.arctan(0.5)\n",
    "theta"
   ]
  }
 ],
 "metadata": {
  "kernelspec": {
   "display_name": "base",
   "language": "python",
   "name": "python3"
  },
  "language_info": {
   "codemirror_mode": {
    "name": "ipython",
    "version": 3
   },
   "file_extension": ".py",
   "mimetype": "text/x-python",
   "name": "python",
   "nbconvert_exporter": "python",
   "pygments_lexer": "ipython3",
   "version": "3.10.9"
  },
  "orig_nbformat": 4
 },
 "nbformat": 4,
 "nbformat_minor": 2
}
